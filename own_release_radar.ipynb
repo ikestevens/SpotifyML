{
 "cells": [
  {
   "cell_type": "code",
   "execution_count": 1,
   "metadata": {},
   "outputs": [],
   "source": [
    "import spotipy\n",
    "import spotipy.util as util"
   ]
  },
  {
   "cell_type": "code",
   "execution_count": 2,
   "metadata": {},
   "outputs": [],
   "source": [
    "#Auth into Spotify api\n",
    "scope = 'playlist-modify-private playlist-modify-public playlist-read-private user-library-read user-follow-read'\n",
    "username = 'isaacbradys'\n",
    "token = util.prompt_for_user_token(username, scope, \n",
    "                                   client_id=\"569563cc71bb4548a49d5e53d7b226a3\", \n",
    "                                   client_secret=\"6162109b98c54ad6acaa9d207500b4d7\", \n",
    "                                   redirect_uri = 'http://localhost:8080')\n",
    "spotify = spotipy.Spotify(auth=token)"
   ]
  },
  {
   "cell_type": "code",
   "execution_count": 3,
   "metadata": {},
   "outputs": [
    {
     "name": "stdout",
     "output_type": "stream",
     "text": [
      "Following 51 artists. They're average popularity is 51.96 out of 100\n"
     ]
    }
   ],
   "source": [
    "#Grab the artists I follow into list\n",
    "following_results = spotify.current_user_followed_artists(limit=50)\n",
    "artist_names = []\n",
    "artist_pop = []\n",
    "NextPage = True\n",
    "while NextPage:\n",
    "    if not following_results['artists']['next']:\n",
    "        NextPage = False\n",
    "    for item in following_results['artists'][\"items\"]:\n",
    "        artist_names.append(item[\"name\"])\n",
    "        artist_pop.append(item['popularity'])\n",
    "    following_results = spotify.next(following_results['artists'])\n",
    "    \n",
    "following_count = len(artist_names)\n",
    "print(\"Following \" + str(following_count) + \n",
    "      \" artists. They're average popularity is \" + str(round(sum(artist_pop)/len(artist_pop), 2)) + \" out of 100\")"
   ]
  },
  {
   "cell_type": "code",
   "execution_count": 4,
   "metadata": {},
   "outputs": [
    {
     "name": "stdout",
     "output_type": "stream",
     "text": [
      "Added an additional 137 artists from saved songs. In total we have 188 artists. These are all the artists we like: \n",
      " \n",
      " \n",
      "{'Gap Dream', 'M. T. Hadley', 'Yumi Zouma', 'Broadcast', 'Karen O', 'Child Ivory', 'Mac DeMarco', 'Justin Hurwitz', 'Alvvays', 'Quilt', 'ARTHUR', 'Animal Collective', 'CuckooLander', 'Chance the Rapper', 'Hurray For The Riff Raff', 'Gypsy & The Cat', 'Ghostland Observatory', 'Nico', 'Bill Waters', 'Paul Cherry', 'Slumbers', 'Christopher Jackson', 'STRFKR', 'Kate Bollinger', 'Khruangbin', 'Anna Burch', 'Courtney Barnett', 'Mystic Braves', 'NEIL FRANCES', 'Washed Out', 'Part Time', 'DYAN', 'Born Ruffians', 'Lucy Dacus', 'The Strokes', 'Benjamin Schoos', 'Ritt Momney', 'Lucius', 'The War On Drugs', 'Neoflesh', 'Tennis', 'Radiohead', 'Childish Gambino', \"Spock's Grand Amen\", 'Justice Der', 'Buffy Sainte-Marie', 'Leslie Odom Jr.', 'Billy Lemos', 'Banes World', 'The Ray Conniff Singers', 'Angel Olsen', 'Passion Pit', 'Panda Bear', 'Bombay Bicycle Club', 'Frank Ocean', 'Wet', 'Blackbird Blackbird', 'Toro y Moi', 'Jonathan Groff', 'Ray Conniff', 'Emily Reo', 'Arcade Fire', 'Dirty Projectors', 'Tiny Ruins', 'Oscar Lang', 'Santoré', 'Jacco Gardner', 'SALES', 'Dumbo Gets Mad', 'Reptar', 'FLOOR CRY', 'Lin-Manuel Miranda', 'Tune-Yards', 'gobbinjr', 'Thayne Jasperson', 'Jasmine Cephas-Jones', 'Porcelain Raft', 'Mild High Club', 'Kevin Morby', 'Remi Wolf', 'Safe', 'Happyness', 'Summer Heart', 'HOMESHAKE', 'Julia Jacklin', 'Big Thief', 'Sharon Van Etten', 'SadGirl', 'American Royalty', 'Rhye', 'Dirty Art Club', 'Flume', 'Hasani', 'Rivergazer', 'xxyyxx', 'MGMT', 'Discovery', 'Daveed Diggs', 'Anthony Ramos', 'Youth Lagoon', 'Cults', 'Beach House', 'Summer Camp', 'Alela Diane', 'Chad Valley', 'Men I Trust', 'Steve Lacy', 'Mabel Ye', 'BOYO', 'Triathalon', 'Renée Elise Goldsberry', 'Good Morning', 'OH!hello', 'Ariel Days', 'Sam Benson', 'Blood Orange', 'WU LYF', 'Sarah Jaffe', 'MorMor', 'Small Forward', \"Dre'es\", 'Sunset Rollercoaster', 'Jaunt', 'Summer Salt', 'Twist', 'Ricky Eat Acid', 'Caribou', 'Sports', 'Emily Brown', 'Mk.gee', 'The Drums', 'Jakob Ogawa', 'Stella Donnelly', 'Mountain Man', 'Ratatat', 'Whitney', 'Mitski', 'Jerry Paper', 'Future Islands', 'Elvis Presley', 'Whatever, Dad', 'Sniffle Party', 'Molly Burch', 'Kanye West', 'Craft Spells', '6LACK', 'Glass Animals', 'The xx', 'Hanni El Khatib', 'Gauntlet Hair', 'Juan Wauters', 'Haley Heynderickx', 'Boys Age', 'Lia Ices', 'Frankie Cosmos', 'Le Couleur', 'Original Broadway Cast of Hamilton', 'Deerhoof', 'Clarence James', 'Night Beds', 'Tame Impala', 'Travis Bretzer', 'Monster Rally', 'Faye Webster', 'Son Lux', 'Renata Zeiguer', 'Temples', 'Caleb Darger', 'fern', 'Tourist', 'Phillipa Soo', 'Exitmusic', 'Alexandra Savior', 'Pretty Lights', 'Lady Lamb', 'Thee Oh Sees', 'Adult Mom', 'Hector Gachan', 'Harriet', 'Adrianne Lenker', 'Surfer Blood', 'Albert Hammond, Jr.', 'Junip', 'ODESZA', 'Javelin', 'The Dig', 'Ducktails', 'Real Estate'}\n"
     ]
    }
   ],
   "source": [
    "#Grab more artists from the songs I've saved\n",
    "results = spotify.current_user_saved_tracks()\n",
    "nex = True\n",
    "while nex:\n",
    "    if not results['next']:\n",
    "        nex = False\n",
    "    for item in results[\"items\"]:\n",
    "        track = item[\"track\"]\n",
    "        artist_names.append(track[\"artists\"][0][\"name\"])\n",
    "    results = spotify.next(results)\n",
    "\n",
    "setOfArtistsWeLike = set(artist_names)\n",
    "print(\"Added an additional \" + str(len(setOfArtistsWeLike)-following_count) + \n",
    "      \" artists from saved songs. In total we have \" + str(len(setOfArtistsWeLike)) + \n",
    "      \" artists. These are all the artists we like: \\n \\n\" + str(setOfArtistsWeLike))"
   ]
  },
  {
   "cell_type": "code",
   "execution_count": 8,
   "metadata": {},
   "outputs": [
    {
     "name": "stdout",
     "output_type": "stream",
     "text": [
      "New tracks from 113 artists including \n",
      " \n",
      " \n",
      "{'Eli Brown', 'Steffany Gretzinger', 'Orion Sun', 'Drake', 'In This Moment', 'Kane Brown', 'Hollaphonic', 'J Balvin', 'Purity Ring', 'GATTÜSO', 'Various Artists', 'Kelsea Ballerini', 'Brian Fallon', 'Troye Sivan', 'ROSALÍA', 'Sech', 'Shallou', 'Dua Lipa', 'DJ Premier', 'Alkaline Trio', 'FISHER', 'Rod Wave', 'John Legend', 'ILLENIUM', 'The Lumineers', 'Phish', 'Excision', 'Childish Gambino', 'Mosaic MSC', 'Waxahatchee', 'Nine Inch Nails', 'Tove Lo', 'Toby Keith', 'Run The Jewels', 'En Vogue', 'dvsn', 'Turbo', 'NLE Choppa', 'Dirty Projectors', 'Gunna', 'JOYRYDE', 'KAROL G', 'Young Thug', 'NAV', 'Bright Eyes', 'Kygo', 'Future', 'Tank', 'Nothing But Thieves', 'Kip Moore', 'Margaret Glaspy', 'Jessie Reyez', 'Nicky Romero', 'All Time Low', 'Filmore', 'Comethazine', 'YBN Nahmir', 'Flo Milli', 'Yves Tumor', 'Camilo', 'Ant Saunders', 'Chrissy Metz', 'G-Eazy', 'Justin Bieber', 'Love Regenerator', 'Joyner Lucas', 'R3HAB', 'Alaina Castillo', 'Greg Nice', 'Yaeji', 'Sam Hunt', 'Alina Baraz', 'Steve Aoki', 'Ricky Martin', 'Sebastian Yatra', 'Ledisi', 'Seven Lions', 'NOFX', 'I Prevail', 'Diana Gordon', 'Florida Georgia Line', 'Snoh Aalegra', 'PARTYNEXTDOOR', 'K CAMP', 'Kiana Ledé', 'Wiz Khalifa', 'Calvin Harris', 'Pearl Jam', 'Ingrid Andress', 'Cavetown', 'Mt. Joy', 'Trevor Daniel', 'Tyga', 'OneRepublic', 'DaBaby', 'Sasha Sloan', 'The Weeknd', 'Amber Mark', 'Zara Larsson', 'Delacey', 'Tory Lanez', '5 Seconds of Summer', 'Roddy Ricch', 'Thundercat', 'Alana Springsteen', 'Anuel AA', 'Empress Of', 'Little Dragon', 'Conan Gray', 'Xriss', 'M. Ward', 'Hayley Williams', 'Ashley McBryde'}\n"
     ]
    }
   ],
   "source": [
    "#Get all the new releases (singles, compilations, and albums)\n",
    "newReleases = spotify.new_releases(\"US\")\n",
    "new_songs = []\n",
    "aritstsInNewReleases = []\n",
    "this = True\n",
    "while this:\n",
    "    if not newReleases[\"albums\"][\"next\"]:\n",
    "        this = False\n",
    "    for release in newReleases[\"albums\"][\"items\"]:\n",
    "\n",
    "        if(release[\"album_type\"] == \"album\"):\n",
    "            album = spotify.album(release[\"id\"])\n",
    "            for track in album[\"tracks\"][\"items\"]:\n",
    "                weLikeArtist = False\n",
    "                for artist in release[\"artists\"]:\n",
    "                    aritstsInNewReleases.append(artist[\"name\"])\n",
    "                    if artist[\"name\"] in setOfArtistsWeLike:\n",
    "                        weLikeArtist = True\n",
    "                        break\n",
    "\n",
    "                if weLikeArtist:\n",
    "                    new_songs.append(track)\n",
    "                    \n",
    "        if(release[\"album_type\"] == \"compilations\"):\n",
    "            album = spotify.album(release[\"id\"])\n",
    "            for track in album[\"tracks\"][\"items\"]:\n",
    "                weLikeArtist = False\n",
    "                for artist in release[\"artists\"]:\n",
    "                    aritstsInNewReleases.append(artist[\"name\"])\n",
    "                    if artist[\"name\"] in setOfArtistsWeLike:\n",
    "                        weLikeArtist = True\n",
    "                        break\n",
    "\n",
    "                if weLikeArtist:\n",
    "                    new_songs.append(track)\n",
    "\n",
    "\n",
    "        if(release[\"album_type\"] == \"single\"):\n",
    "            album = spotify.album(release[\"id\"])\n",
    "            for track in album[\"tracks\"][\"items\"]:\n",
    "                weLikeArtist = False\n",
    "                for artist in release[\"artists\"]:\n",
    "                    aritstsInNewReleases.append(artist[\"name\"])\n",
    "                    weLikeArtist = False\n",
    "                    if artist[\"name\"] in setOfArtistsWeLike:\n",
    "                        weLikeArtist = True\n",
    "                        break\n",
    "\n",
    "                if weLikeArtist:\n",
    "                    new_songs.append(track)\n",
    "                    \n",
    "    newReleases = spotify.next(newReleases[\"albums\"])\n",
    "\n",
    "print('New tracks from ' + str(len(set(aritstsInNewReleases))) + \n",
    "      ' artists including \\n \\n' + str(set(aritstsInNewReleases)))"
   ]
  },
  {
   "cell_type": "code",
   "execution_count": 11,
   "metadata": {},
   "outputs": [
    {
     "name": "stdout",
     "output_type": "stream",
     "text": [
      "Script found 16 new songs!\n",
      "Childish Gambino - 0.00\n",
      "Childish Gambino - Algorhythm\n",
      "Childish Gambino - Time\n",
      "Childish Gambino - 12.38\n",
      "Childish Gambino - 19.10\n",
      "Childish Gambino - 24.19\n",
      "Childish Gambino - 32.22\n",
      "Childish Gambino - 35.31\n",
      "Childish Gambino - 39.28\n",
      "Childish Gambino - 42.26\n",
      "Childish Gambino - 47.48\n",
      "Childish Gambino - 53.49\n",
      "Dirty Projectors - On The Breeze\n",
      "Dirty Projectors - Overlord\n",
      "Dirty Projectors - Search For Life\n",
      "Dirty Projectors - Guarding The Baby\n",
      "Add or not? Yes or NoNo\n",
      "These songs weren't added!\n"
     ]
    }
   ],
   "source": [
    "print(\"Script found \" + str(len(new_songs)) + \" new songs!\")\n",
    "for track in new_songs:\n",
    "    print(track[\"artists\"][0][\"name\"] + \" - \" + track[\"name\"])\n",
    "    \n",
    "okay = input(\"Add or not? Yes or No\")\n",
    "if okay == 'Yes':\n",
    "    spotify.user_playlist_add_tracks(\"isaacbradys\",\"7F7HVvK9qTkyRt1uUpvd4i\", [track[\"id\"]])\n",
    "else:\n",
    "    print(\"These songs weren't added!\")"
   ]
  },
  {
   "cell_type": "code",
   "execution_count": null,
   "metadata": {},
   "outputs": [],
   "source": []
  }
 ],
 "metadata": {
  "kernelspec": {
   "display_name": "Python 3",
   "language": "python",
   "name": "python3"
  },
  "language_info": {
   "codemirror_mode": {
    "name": "ipython",
    "version": 3
   },
   "file_extension": ".py",
   "mimetype": "text/x-python",
   "name": "python",
   "nbconvert_exporter": "python",
   "pygments_lexer": "ipython3",
   "version": "3.7.4"
  }
 },
 "nbformat": 4,
 "nbformat_minor": 2
}
