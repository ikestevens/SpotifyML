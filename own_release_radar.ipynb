{
 "cells": [
  {
   "cell_type": "code",
   "execution_count": 1,
   "metadata": {},
   "outputs": [],
   "source": [
    "import spotipy\n",
    "import spotipy.util as util"
   ]
  },
  {
   "cell_type": "code",
   "execution_count": 2,
   "metadata": {},
   "outputs": [],
   "source": [
    "scope = 'playlist-modify-private playlist-modify-public playlist-read-private user-library-read'\n",
    "# scope = 'user-read-playback-state'\n",
    "# works as well\n",
    "\n",
    "token = util.prompt_for_user_token(\"isaacbradys\", scope, client_id=\"569563cc71bb4548a49d5e53d7b226a3\", client_secret=\"6162109b98c54ad6acaa9d207500b4d7\")\n",
    "\n",
    "spotify = spotipy.Spotify(auth=token)"
   ]
  },
  {
   "cell_type": "code",
   "execution_count": 13,
   "metadata": {},
   "outputs": [
    {
     "name": "stdout",
     "output_type": "stream",
     "text": [
      "{'BOYO', 'M. T. Hadley', 'Toro y Moi', 'Mabel Ye', 'WU LYF', 'Slumbers', 'gobbinjr', 'Beach House', 'Leslie Odom Jr.', 'Frank Ocean', 'ODESZA', 'SadGirl', 'Neoflesh', 'Washed Out', 'FLOOR CRY', 'American Royalty', 'Real Estate', 'Ricky Eat Acid', 'Ariel Days', 'Javelin', 'Stella Donnelly', 'fern', 'Jonathan Groff', 'Panda Bear', '6LACK', 'Rivergazer', 'Sharon Van Etten', 'Safe', 'Ritt Momney', 'Animal Collective', 'Benjamin Schoos', 'Boys Age', 'Son Lux', 'Wet', 'Travis Bretzer', 'Jasmine Cephas-Jones', 'Tame Impala', 'Alela Diane', 'Exitmusic', 'Lucy Dacus', 'Glass Animals', 'MorMor', 'Banes World', 'Christopher Jackson', '落日飛車 Sunset Rollercoaster', 'Remi Wolf', 'Rhye', 'Hasani', 'Dumbo Gets Mad', 'Lin-Manuel Miranda', 'Jaunt', 'MGMT', 'Mitski', 'Sports', 'Broadcast', 'Karen O', 'pig', 'Yumi Zouma', 'Thayne Jasperson', 'Hanni El Khatib', 'Original Broadway Cast of Hamilton', 'Khruangbin', 'Santoré', 'Caribou', 'Dirty Art Club', 'Ratatat', 'Monster Rally', 'DYAN', 'Small Forward', 'Blackbird Blackbird', 'Julia Jacklin', 'Le Couleur', 'Sarah Jaffe', 'Jakob Ogawa', 'Night Beds', 'Future Islands', 'Triathalon', 'Temples', 'The xx', 'Sniffle Party', 'STRFKR', 'Justice Der', 'Ghostland Observatory', 'Anna Burch', 'Tourist', 'ARTHUR', 'Paul Cherry', 'Kanye West', 'Molly Burch', 'SALES', 'Lucius', 'Tune-Yards', 'CuckooLander', 'Deerhoof', 'Pretty Lights', 'Billy Lemos', 'Hector Gachan', 'Adult Mom', 'Jerry Paper', 'Courtney Barnett', 'Bombay Bicycle Club', 'Happyness', 'Mystic Braves', 'Blood Orange', 'Nico', 'The War On Drugs', 'Men I Trust', 'Gap Dream', 'Renée Elise Goldsberry', 'Passion Pit', 'Mac DeMarco', 'Bill Waters', 'Dirty Projectors', 'Discovery', 'Frankie Cosmos', 'The Ray Conniff Singers', 'Haley Heynderickx', 'Porcelain Raft', 'Emily Brown', 'Reptar', 'Radiohead', 'Phillipa Soo', 'Ray Conniff', 'Gypsy & The Cat', 'Mountain Man', 'Chance the Rapper', 'Tiny Ruins', 'Renata Zeiguer', 'Steve Lacy', 'Alvvays', 'Emily Reo', 'NEIL FRANCES', 'Angel Olsen', 'Good Morning', 'Summer Heart', 'Big Thief', 'Lia Ices', 'Mild High Club', 'Youth Lagoon', 'Mk.Gee', 'Hurray For The Riff Raff', 'The Dig', 'Gauntlet Hair', 'HOMESHAKE', 'Justin Hurwitz', 'Chad Valley', 'Junip', 'Flume', 'Anthony Ramos', 'Ducktails', 'Whatever, Dad', 'Cults', 'Daveed Diggs', 'Summer Camp', 'xxyyxx', 'Quilt', 'Buffy Sainte-Marie', 'Lady Lamb', 'Adrianne Lenker', 'Thee Oh Sees', 'Craft Spells', 'Jacco Gardner', 'Childish Gambino', 'OH!hello'}\n",
      "540\n"
     ]
    }
   ],
   "source": [
    "artist_names = []\n",
    "results = spotify.current_user_saved_tracks()\n",
    "for item in results[\"items\"]:\n",
    "        track = item[\"track\"]\n",
    "        artist_names.append(track[\"artists\"][0][\"name\"])\n",
    "        \n",
    "while results[\"next\"]:\n",
    "    for item in results[\"items\"]:\n",
    "        track = item[\"track\"]\n",
    "        artist_names.append(track[\"artists\"][0][\"name\"])\n",
    "    results = spotify.next(results)\n",
    "    \n",
    "print(set(artist_names))\n",
    "print(len(artist_names))"
   ]
  },
  {
   "cell_type": "code",
   "execution_count": 14,
   "metadata": {},
   "outputs": [],
   "source": [
    "setOfArtists = set(artist_names)\n",
    "\n",
    "newReleases = spotify.new_releases(\"US\")\n",
    "\n",
    "songsToCheckOut = []\n",
    "\n",
    "aritstsInNewReleases = []\n",
    "\n",
    "while newReleases[\"albums\"][\"next\"]:\n",
    "    for release in newReleases[\"albums\"][\"items\"]:\n",
    "        if(release[\"album_type\"] == \"album\"):\n",
    "            album = spotify.album(release[\"id\"])\n",
    "            i = 0\n",
    "            for track in album[\"tracks\"][\"items\"]:\n",
    "                weLikeArtist = False\n",
    "                for artist in release[\"artists\"]:\n",
    "                    aritstsInNewReleases.append(artist[\"name\"])\n",
    "                    if artist[\"name\"] in setOfArtists:\n",
    "                        weLikeArtist = True\n",
    "                        break\n",
    "\n",
    "                if weLikeArtist:\n",
    "                    songsToCheckOut.append(track)\n",
    "\n",
    "\n",
    "\n",
    "        if(release[\"album_type\"] == \"single\"):\n",
    "            for artist in release[\"artists\"]:\n",
    "                aritstsInNewReleases.append(artist[\"name\"])\n",
    "                weLikeArtist = False\n",
    "                if artist[\"name\"] in setOfArtists:\n",
    "                    weLikeArtist = True\n",
    "                    break\n",
    "\n",
    "                if weLikeArtist:\n",
    "                    songsToCheckOut.append(track)\n",
    "    newReleases = spotify.next(newReleases[\"albums\"])"
   ]
  },
  {
   "cell_type": "code",
   "execution_count": 5,
   "metadata": {},
   "outputs": [
    {
     "name": "stdout",
     "output_type": "stream",
     "text": [
      "{'FRENSHIP', 'PnB Rock', 'Danny Elfman', 'Ilham', 'blackbear', 'Zedd', 'ZHU', 'LOOΠΔ', 'SWMRS', 'Big Wild', 'Maren Morris', 'Stephen Barton', 'Melissa Helser', 'Brooks', 'Gucci Mane', 'Trademark Da Skydiver', 'Anna Of The North', 'LHITNEY', 'Brandon Ratcliff', 'DJ Snake', 'Comethazine', 'Labrinth', 'Nipsey Hussle', 'Armin van Buuren', 'Kevin Gates', 'Elle Fanning', 'INNA', 'Saweetie', 'Paulo Londra', 'Alejandro Sanz', 'Wallows', 'Becky Hill', 'Arin Ray', 'Cody Johnson', 'Lil Skies', 'Ava Max', 'Christina Perri', 'Terror Jr', 'Tierra Whack', 'Marshmello', 'XXXTENTACION', 'Lang Lang', 'Juice WRLD', 'Galantis', 'Ronnie Milsap', 'Old Dominion', 'Jade Bird', 'Andrew Bird', 'Social Club Misfits', 'Meghan Trainor', 'Aminé', 'Gesaffelstein', 'Niels Van Gogh', 'Disclosure', 'RY X', 'grandson', 'Moflo Music', 'Hardwell', 'Lukas Graham', 'Method', 'Deerhunter', 'Maggie Rogers', 'Backstreet Boys', 'ILLENIUM', 'Dreezy', 'Sabrina Carpenter', 'Salaam Remi', 'Kim Taylor', 'Lauren Daigle', 'Sean Paul', 'Kari Faux', 'Phosphorescent', 'Maribou State', 'Camilo', 'Foster The People', 'Sam Feldt', 'Young Dolph', 'Eminem', 'Shy Girls', 'Sarah Schachner', 'Alison Wonderland', 'Blake Shelton', 'Bahari', 'Interpol', 'dodie', 'Yo Gotti', 'Billie Eilish', 'Solange', 'Melii', 'DREAMERS', 'Papa Roach', 'Martin Garrix', 'Passion', 'Brooks & Dunn', 'Anderson .Paak', 'Bonn', 'HARDY', 'Vampire Weekend', 'Ozuna', 'GASHI', 'Lauv', '03 Greedo', 'Bethel Music', 'Tropkillaz', 'Lil Peep', 'Sean Price', 'Zion & Lennox', 'Call Me Karizma', 'Jeff Russo', 'Quavo', 'BLACKPINK', 'Kelly Clarkson', 'FIDLAR', 'DVBBS', 'SAFE', 'Sofia Reyes', 'Phoebe Bridgers', 'Eptic', 'ILoveMakonnen', 'Gerard Way', 'Amber Mark', 'Luke Bryan', 'The Amazons', 'Nina Nesbitt', 'Future', 'Catfish and the Bottlemen', 'Florence + The Machine', 'Sky Ferreira', 'MISSIO', 'Emily King', 'John Mayer', 'Boy Harsher', 'Molly Tuttle', 'Pardison Fontaine', 'El Bebeto', 'Missy Elliott', 'Drake', 'Kane Brown', 'Megan Thee Stallion', 'Nao', 'The Chainsmokers', 'Ryan Adams', 'Prince Fox', 'Mitchell Tenpenny', 'Plastic Toy', 'Jacquees', 'Third Party', 'YBN Cordae', 'Switchfoot', 'Diplo', 'Katy Perry', 'CHVRCHES', 'Karen O', 'Ariana Grande', 'Juvenile', 'Helado Negro', 'FEVER 333', 'Loote', 'Gloria Trevi', 'Fuego', 'Ty James', 'Avril Lavigne', 'Jake Owen', 'Snoh Aalegra', 'Alexisonfire', 'Better Oblivion Community Center', 'Elvis Presley', 'P!nk', 'NGHTMRE', 'Elujay', 'K CAMP', 'Arcade Fire', 'Big Boi', 'Jennifer Lopez', 'Quinn XCII', 'King Calaway', 'YBN Nahmir', \"Why Don't We\", 'Kodak Black', 'Khalid', 'Celeste', 'Babasónicos', 'H.E.R.', 'ARTY', 'Zara Larsson', 'Phil Wickham', 'Alan Walker', 'Greyson Chance', 'Michael Bublé', 'GoldLink', 'Chris Brown', 'Ally Brooke', 'Sebastian Yatra', 'J. Cole', 'Gone West', 'Birdman', 'Mustard', 'Michael Bolton', 'I Prevail', 'Ugly God', 'Girlpool', 'G-Eazy', 'Omar Apollo', 'Weiss (UK)', 'Hyper Fenton', 'Cardi B', 'Summer Walker', 'Sharon Van Etten', 'Jack & Jack', 'Toro y Moi', 'The Lumineers', 'Brennin Hunt', 'James Barker Band', 'Kehlani', 'The Black Keys', 'Jenny Lewis', 'Cautious Clay', 'Anuel Aa', 'Hunter Hayes', 'Curren$y', 'Daniel Blume', 'Mike Williams', 'Troye Sivan', 'Sara Bareilles', 'ChocQuibTown', 'Tyga', 'Migos', 'Joyner Lucas', '2 Chainz', 'The Head and the Heart', 'Wiz Khalifa', 'bülow', 'Danny Ocean', 'Luke Christopher', 'Reba McEntire', 'James Bay', 'Becky G', 'Roddy Ricch', 'Dillon Francis', 'Darell', 'Brian Tyler', 'Rich The Kid', 'Johnny Orlando', 'Sonder', 'David Guetta', 'Lenin Ramírez', 'TV Noise', 'The Beta Machine', 'Eladio Carrion', 'Reik', 'Des Rocs', 'Sigrid', 'Julia Jacklin', 'Jon Batiste', 'Alesso', 'Yhung T.O.', 'Parachute', 'Niall Horan', 'Kelly Rowland', 'OneRepublic', 'Gary Clark Jr.', 'Lucky Daye', 'E-40', 'Gus Dapperton', 'Buddy', 'The National', 'Grace VanderWaal', 'Broods', 'Dustin Lynch', 'Camila', 'Paloma Mami', 'Lil Pump', 'Anitta', 'Young Roddy', 'Cassadee Pope', 'Logic', 'SVDDEN DEATH', 'J Balvin', 'Emotional Oranges', 'Thomas Rhett', 'Beirut', 'Dua Lipa', 'Fall Out Boy', 'Yo-Yo Ma', 'Pink Sweat$', 'El de La Guitarra', 'Chicano Batman', 'LCD Soundsystem', 'Kiiara', 'Black Caviar', 'Jason Derulo', 'Frances Cone', 'PUP', 'unheard', 'Daddy Yankee', 'Camila Cabello', 'Jaden Smith', 'George Strait', '7eventh Time Down', 'G Herbo', 'Sammie', 'Ryan Trey', 'TOMORROW X TOGETHER', 'Romeo Santos', 'Lil Durk', 'Tiësto', 'Playboi Carti', 'Fiona Apple', 'Farruko', 'VanJess', 'India.Arie', 'Carly Rae Jepsen', 'Henry Jamison', 'Florida Georgia Line', 'Louis Tomlinson', 'Trey Songz', 'A$AP Rocky', 'Local Natives', 'LANCO', 'Mary Bragg', 'Dean Lewis', 'Rayana Jay', 'Quincy', 'Natti Natasha', 'Yella Beezy', 'Rita Ora', 'Sofi Tukker', 'Ady Suleiman', 'The Killers', 'Calling All Captains', 'Rayven Justice', 'Bebe Rexha', 'Midland', 'Rex Orange County', 'Wyclef Jean', 'Darlingside', 'Tame Impala', 'Greeicy', 'John Legend', 'Karol G', 'PJ Morton', 'Katzù Oso', 'K.Flay', 'Alec Benjamin', 'T-Pain', 'Chaka Khan', 'Cheat Codes', 'Luis Fonsi', 'Jhay Cortez', 'AJR', 'Steve Aoki', 'James Blake', 'Brad Paisley', 'Bruno Mars', 'Sia', 'Ben Platt', 'Caloncho', 'Foals', 'Lennon Stella', 'YUNGBLUD', 'Jonas Brothers', 'American Authors', 'BJ The Chicago Kid', 'Brett Young', 'Diana Krall', 'M-22', 'TYuS', 'Soulja Boy', 'Chelsea Cutler', 'Empire of the Sun', 'Hit-Boy', 'Mau y Ricky', 'Saro', 'Lizzo', 'Bring Me The Horizon', 'Maluma', 'Carnage', 'Lucy Rose', 'Cultura Profética', 'Panda Bear', 'Rodney Atkins', 'Reignwolf', 'Gunna', 'Marc Anthony', 'Hozier', 'Mike Posner', 'NAV', 'Rival Sons', 'Elijah Woods x Jamie Fine', 'Blueface', 'Radkey', 'Boosie Badazz', 'Small Professor', 'Jonathan David Helser', 'Lil Jon', 'Kassi Ashton', 'Badflower', 'Betty Who', 'Julia Michaels', 'YNW Melly', 'Hillsong UNITED', 'Guster', 'Bazzi', \"Shaquille O'Neal\", \"Ar'mon & Trey\", 'ScHoolboy Q', 'Jacob Latimore', 'Lele Pons', 'Frank Carter & The Rattlesnakes', 'Michael W. Smith', 'Nicky Jam', 'ROSALÍA', 'Tom Walker', 'Kevin Morby', 'Victoria Monét', 'Gryffin', 'Silvestre Dangond', 'Sky', 'Feed Me', 'Pierce Fulton', 'Yolanda Be Cool', 'Conro', 'YoungBoy Never Broke Again', 'Peter Manos', 'Chase Atlantic', 'Philthy Rich', 'Above & Beyond', 'The Bouncing Souls', 'Ivy Queen', 'Noosa', '5 Seconds of Summer', 'French Montana', 'DaBaby', 'Justin Love', 'HOMESHAKE', 'Tony Bennett', 'Shift K3Y', 'Preme', 'Macklemore', 'King Princess', 'Zion', 'Zacari', 'Beck', 'Halsey', 'Eric Bellinger', 'Demob Happy', 'Weezer', 'Offset', 'Cage The Elephant', 'Don Diablo', 'Tory Lanez', 'Conor Oberst', 'Gente De Zona', 'Mötley Crüe', 'CNCO'}\n"
     ]
    }
   ],
   "source": [
    "print(set(aritstsInNewReleases))"
   ]
  },
  {
   "cell_type": "code",
   "execution_count": 17,
   "metadata": {},
   "outputs": [
    {
     "name": "stdout",
     "output_type": "stream",
     "text": [
      "Karen O-Lux Prima\n",
      "Karen O-Ministry\n",
      "Karen O-Turn The Light\n",
      "Karen O-Woman\n",
      "Karen O-Redeemer\n",
      "Karen O-Drown\n",
      "Karen O-Leopard's Tongue\n",
      "Karen O-Reveries\n",
      "Karen O-Nox Lumina\n",
      "Julia Jacklin-Body\n",
      "Julia Jacklin-Head Alone\n",
      "Julia Jacklin-Pressure To Party\n",
      "Julia Jacklin-Don't Know How To Keep Loving You\n",
      "Julia Jacklin-When The Family Flies In\n",
      "Julia Jacklin-Convention\n",
      "Julia Jacklin-Good Guy\n",
      "Julia Jacklin-You Were Right\n",
      "Julia Jacklin-Turn Me Down\n",
      "Julia Jacklin-Comfort\n",
      "HOMESHAKE-Early\n",
      "HOMESHAKE-Anything at All\n",
      "HOMESHAKE-Like Mariah\n",
      "HOMESHAKE-Heartburn\n",
      "HOMESHAKE-All Night Long\n",
      "HOMESHAKE-Trudi and Lou\n",
      "HOMESHAKE-Just Like My\n",
      "HOMESHAKE-Nothing Could Be Better\n",
      "HOMESHAKE-Other Than\n",
      "HOMESHAKE-Salu Says Hi\n",
      "HOMESHAKE-Another Thing\n",
      "HOMESHAKE-Couch Cushion\n",
      "HOMESHAKE-(Secret Track)\n",
      "Panda Bear-Dolphin\n",
      "Panda Bear-Cranked\n",
      "Panda Bear-Token\n",
      "Panda Bear-I Know I Don't Know\n",
      "Panda Bear-Master\n",
      "Panda Bear-Buoys\n",
      "Panda Bear-Inner Monologue\n",
      "Panda Bear-Crescendo\n",
      "Panda Bear-Home Free\n",
      "Sharon Van Etten-I Told You Everything\n",
      "Sharon Van Etten-No One's Easy to Love\n",
      "Sharon Van Etten-Memorial Day\n",
      "Sharon Van Etten-Comeback Kid\n",
      "Sharon Van Etten-Jupiter 4\n",
      "Sharon Van Etten-Seventeen\n",
      "Sharon Van Etten-Malibu\n",
      "Sharon Van Etten-You Shadow\n",
      "Sharon Van Etten-Hands\n",
      "Sharon Van Etten-Stay\n",
      "Toro y Moi-Fading\n",
      "Toro y Moi-Ordinary Pleasure\n",
      "Toro y Moi-Laws of the Universe\n",
      "Toro y Moi-Miss Me (feat. ABRA)\n",
      "Toro y Moi-New House\n",
      "Toro y Moi-Baby Drive It Down\n",
      "Toro y Moi-Freelance\n",
      "Toro y Moi-Who I Am\n",
      "Toro y Moi-Monte Carlo (feat. WET)\n",
      "Toro y Moi-50-50 (feat. Instupendo)\n"
     ]
    },
    {
     "data": {
      "text/plain": [
       "61"
      ]
     },
     "execution_count": 17,
     "metadata": {},
     "output_type": "execute_result"
    }
   ],
   "source": [
    "#Need to add an extra array around track id's because in python strings are also iterable!!\n",
    "for track in songsToCheckOut:\n",
    "    print(track[\"artists\"][0][\"name\"] + \"-\" + track[\"name\"])\n",
    "    #spotify.user_playlist_add_tracks(\"isaacbradys\",\"7F7HVvK9qTkyRt1uUpvd4i\", [track[\"id\"]])\n",
    "len(songsToCheckOut)"
   ]
  },
  {
   "cell_type": "code",
   "execution_count": null,
   "metadata": {},
   "outputs": [],
   "source": []
  }
 ],
 "metadata": {
  "kernelspec": {
   "display_name": "Python 3",
   "language": "python",
   "name": "python3"
  },
  "language_info": {
   "codemirror_mode": {
    "name": "ipython",
    "version": 3
   },
   "file_extension": ".py",
   "mimetype": "text/x-python",
   "name": "python",
   "nbconvert_exporter": "python",
   "pygments_lexer": "ipython3",
   "version": "3.7.0"
  }
 },
 "nbformat": 4,
 "nbformat_minor": 2
}
