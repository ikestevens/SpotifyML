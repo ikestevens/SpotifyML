{
 "cells": [
  {
   "cell_type": "code",
   "execution_count": 1,
   "metadata": {},
   "outputs": [],
   "source": [
    "import spotipy\n",
    "import spotipy.util as util"
   ]
  },
  {
   "cell_type": "code",
   "execution_count": 2,
   "metadata": {},
   "outputs": [],
   "source": [
    "scope = 'playlist-modify-private playlist-modify-public playlist-read-private user-library-read'\n",
    "username = 'isaacbradys'\n",
    "token = util.prompt_for_user_token(username, scope, client_id=\"569563cc71bb4548a49d5e53d7b226a3\", client_secret=\"6162109b98c54ad6acaa9d207500b4d7\")\n",
    "\n",
    "spotify = spotipy.Spotify(auth=token)"
   ]
  },
  {
   "cell_type": "code",
   "execution_count": 3,
   "metadata": {},
   "outputs": [
    {
     "name": "stdout",
     "output_type": "stream",
     "text": [
      "540\n",
      "{'Sports', 'Neoflesh', 'Blackbird Blackbird', 'Frankie Cosmos', 'Molly Burch', 'Lady Lamb', 'Caribou', 'Yumi Zouma', 'Porcelain Raft', 'Mountain Man', 'xxyyxx', 'Travis Bretzer', 'Gauntlet Hair', 'MGMT', 'Angel Olsen', 'SadGirl', 'Haley Heynderickx', 'Passion Pit', 'Radiohead', 'Chad Valley', 'Sniffle Party', 'ODESZA', 'Benjamin Schoos', 'Buffy Sainte-Marie', 'Night Beds', 'Blood Orange', 'Le Couleur', 'STRFKR', 'American Royalty', 'Triathalon', 'Pretty Lights', 'Renata Zeiguer', 'Son Lux', 'Ratatat', 'Boys Age', 'The Dig', 'Washed Out', 'Jacco Gardner', 'Craft Spells', 'Original Broadway Cast of Hamilton', 'Banes World', 'Jasmine Cephas-Jones', 'Justin Hurwitz', 'Temples', 'MorMor', 'Phillipa Soo', 'Quilt', 'Junip', 'Remi Wolf', 'Panda Bear', 'Karen O', 'The xx', 'Ariel Days', 'Glass Animals', 'Gypsy & The Cat', 'Frank Ocean', 'Dumbo Gets Mad', 'Courtney Barnett', 'Small Forward', 'NEIL FRANCES', 'Childish Gambino', 'Safe', 'Slumbers', 'SALES', 'Mild High Club', 'Youth Lagoon', 'Hurray For The Riff Raff', 'Big Thief', 'Mac DeMarco', 'Bill Waters', 'Adrianne Lenker', 'fern', 'Dirty Projectors', 'Ducktails', 'Lin-Manuel Miranda', 'ARTHUR', 'Tourist', 'HOMESHAKE', 'Future Islands', 'Exitmusic', '落日飛車 Sunset Rollercoaster', 'Good Morning', 'Broadcast', 'Mitski', 'DYAN', 'Flume', 'Adult Mom', 'Kanye West', 'Bombay Bicycle Club', 'The Ray Conniff Singers', 'Leslie Odom Jr.', 'Renée Elise Goldsberry', 'Real Estate', 'Rhye', 'gobbinjr', 'Cults', 'Deerhoof', 'Mabel Ye', 'Hector Gachan', 'Anna Burch', 'Lucy Dacus', 'Tame Impala', 'Stella Donnelly', 'Khruangbin', 'Ray Conniff', 'FLOOR CRY', 'Monster Rally', 'BOYO', 'Hasani', 'Anthony Ramos', 'Santoré', 'Emily Brown', 'Ghostland Observatory', 'Rivergazer', 'Gap Dream', 'The War On Drugs', 'Discovery', 'Toro y Moi', 'Men I Trust', 'Daveed Diggs', 'WU LYF', 'Ritt Momney', 'Whatever, Dad', '6LACK', 'Wet', 'Chance the Rapper', 'Beach House', 'Thayne Jasperson', 'Mystic Braves', 'Jaunt', 'Jakob Ogawa', 'Tune-Yards', 'Tiny Ruins', 'Nico', 'Summer Heart', 'Sarah Jaffe', 'Steve Lacy', 'Jerry Paper', 'Hanni El Khatib', 'Summer Camp', 'Javelin', 'Lucius', 'Christopher Jackson', 'Alela Diane', 'Justice Der', 'Happyness', 'Sharon Van Etten', 'Animal Collective', 'Thee Oh Sees', 'Paul Cherry', 'Jonathan Groff', 'Dirty Art Club', 'Billy Lemos', 'Reptar', 'OH!hello', 'Lia Ices', 'Mk.Gee', 'pig', 'CuckooLander', 'M. T. Hadley', 'Ricky Eat Acid', 'Alvvays', 'Emily Reo', 'Julia Jacklin'}\n"
     ]
    }
   ],
   "source": [
    "artist_names = []\n",
    "results = spotify.current_user_saved_tracks()\n",
    "for item in results[\"items\"]:\n",
    "        track = item[\"track\"]\n",
    "        artist_names.append(track[\"artists\"][0][\"name\"])\n",
    "        \n",
    "while results[\"next\"]:\n",
    "    for item in results[\"items\"]:\n",
    "        track = item[\"track\"]\n",
    "        artist_names.append(track[\"artists\"][0][\"name\"])\n",
    "    results = spotify.next(results)\n",
    "    \n",
    "print(len(artist_names))\n",
    "setOfArtistsWeLike = set(artist_names)\n",
    "print(setOfArtistsWeLike)"
   ]
  },
  {
   "cell_type": "code",
   "execution_count": 47,
   "metadata": {},
   "outputs": [
    {
     "name": "stdout",
     "output_type": "stream",
     "text": [
      "match\n",
      "we here\n",
      "match\n",
      "we here\n"
     ]
    }
   ],
   "source": [
    "newReleases = spotify.new_releases(\"US\")\n",
    "\n",
    "new_songs = []\n",
    "\n",
    "aritstsInNewReleases = []\n",
    "\n",
    "while newReleases[\"albums\"][\"next\"]:\n",
    "    for release in newReleases[\"albums\"][\"items\"]:\n",
    "\n",
    "        if(release[\"album_type\"] == \"album\"):\n",
    "            album = spotify.album(release[\"id\"])\n",
    "            for track in album[\"tracks\"][\"items\"]:\n",
    "                weLikeArtist = False\n",
    "                for artist in release[\"artists\"]:\n",
    "                    aritstsInNewReleases.append(artist[\"name\"])\n",
    "                    if artist[\"name\"] in setOfArtistsWeLike:\n",
    "                        weLikeArtist = True\n",
    "                        print(\"match\")\n",
    "                        break\n",
    "\n",
    "                if weLikeArtist:\n",
    "                    new_songs.append(track)\n",
    "\n",
    "\n",
    "        if(release[\"album_type\"] == \"single\"):\n",
    "            album = spotify.album(release[\"id\"])\n",
    "            for track in album[\"tracks\"][\"items\"]:\n",
    "                weLikeArtist = False\n",
    "                for artist in release[\"artists\"]:\n",
    "                    aritstsInNewReleases.append(artist[\"name\"])\n",
    "                    weLikeArtist = False\n",
    "                    if artist[\"name\"] in setOfArtistsWeLike:\n",
    "                        weLikeArtist = True\n",
    "                        print(\"match\")\n",
    "                        break\n",
    "\n",
    "                if weLikeArtist:\n",
    "                    new_songs.append(track)\n",
    "                    print(\"we here\")\n",
    "                    \n",
    "    newReleases = spotify.next(newReleases[\"albums\"])"
   ]
  },
  {
   "cell_type": "code",
   "execution_count": 48,
   "metadata": {},
   "outputs": [
    {
     "name": "stdout",
     "output_type": "stream",
     "text": [
      "98\n",
      "{'BTS', 'Smokepurpp', 'ScHoolboy Q', 'Melii', 'Cage The Elephant', 'Tom Morello', 'French Montana', 'Anderson .Paak', 'Trademark Da Skydiver', 'Young Dolph', 'Ellie Goulding', 'Gary Clark Jr.', 'Lykke Li', 'Cash Cash', 'Sara Bareilles', 'Jacob Latimore', 'Joey Bada$$', 'Sia', 'KAYTRANADA', 'Victoria Monét', 'Flatbush Zombies', 'Keith Urban', 'Chris Brown', 'Rita Ora', 'K CAMP', 'Miquela', 'Billie Eilish', 'Sebastian Yatra', 'Romeo Santos', 'Ariana Grande', 'Tiësto', 'Jennifer Lopez', 'Playboi Carti', 'Maná', 'Labrinth', 'Brooks & Dunn', 'The Raconteurs', 'Beast Coast', 'Molly Tuttle', 'Kurt Vile', 'PUP', 'Diplo', 'Young Roddy', 'Omar Apollo', 'Mark Ronson', 'Bibio', 'LSDREAM', 'Elle Fanning', 'P!nk', 'VanJess', 'The Chemical Brothers', 'Nao', 'Saweetie', '070 Shake', 'Tame Impala', 'Travis Scott', 'Alejandro Sanz', 'SAFE', 'BLACKPINK', 'Avicii', 'Lil Uzi Vert', 'Crankdat', 'Krewella', 'Amber Mark', 'Beyoncé', 'Gramatik', 'Adventure Club', 'The Lumineers', 'Karol G', 'Curren$y', 'bülow', 'J Balvin', 'Pink Sweat$', 'Conro', 'Anitta', 'Jon Bellion', 'Vampire Weekend', 'PnB Rock', 'Kevin Abstract', 'Mitchell Tenpenny', 'Pablo Alborán', 'Jesse & Joy', 'Steve Lacy', 'Ugly God', 'In Her Own Words', 'Khalid', 'Andrew Bayer', 'Cautious Clay', 'Bazzi', 'ROSALÍA', 'Matrix & Futurebound', 'Jonas Brothers', 'YBN Almighty Jay', 'Reba McEntire', 'DREAMERS', 'Andy Black', 'YBN Nahmir', 'Zara Larsson'}\n"
     ]
    }
   ],
   "source": [
    "print(len(set(aritstsInNewReleases)))\n",
    "print((set(aritstsInNewReleases)))"
   ]
  },
  {
   "cell_type": "code",
   "execution_count": 50,
   "metadata": {},
   "outputs": [
    {
     "name": "stdout",
     "output_type": "stream",
     "text": [
      "Tame Impala-Borderline\n",
      "Steve Lacy-N Side\n"
     ]
    },
    {
     "data": {
      "text/plain": [
       "2"
      ]
     },
     "execution_count": 50,
     "metadata": {},
     "output_type": "execute_result"
    }
   ],
   "source": [
    "for track in new_songs:\n",
    "    print(track[\"artists\"][0][\"name\"] + \"-\" + track[\"name\"])\n",
    "    spotify.user_playlist_add_tracks(\"isaacbradys\",\"7F7HVvK9qTkyRt1uUpvd4i\", [track[\"id\"]])\n",
    "len(new_songs)"
   ]
  },
  {
   "cell_type": "code",
   "execution_count": null,
   "metadata": {},
   "outputs": [],
   "source": []
  }
 ],
 "metadata": {
  "kernelspec": {
   "display_name": "Python 3",
   "language": "python",
   "name": "python3"
  },
  "language_info": {
   "codemirror_mode": {
    "name": "ipython",
    "version": 3
   },
   "file_extension": ".py",
   "mimetype": "text/x-python",
   "name": "python",
   "nbconvert_exporter": "python",
   "pygments_lexer": "ipython3",
   "version": "3.7.0"
  }
 },
 "nbformat": 4,
 "nbformat_minor": 2
}
