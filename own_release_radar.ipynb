{
 "cells": [
  {
   "cell_type": "code",
   "execution_count": 2,
   "metadata": {},
   "outputs": [],
   "source": [
    "import spotipy\n",
    "import spotipy.util as util\n",
    "import os"
   ]
  },
  {
   "cell_type": "code",
   "execution_count": 3,
   "metadata": {},
   "outputs": [
    {
     "ename": "SpotifyOauthError",
     "evalue": "No client_secret. Pass it or set a SPOTIPY_CLIENT_SECRET environment variable.",
     "output_type": "error",
     "traceback": [
      "\u001b[0;31m---------------------------------------------------------------------------\u001b[0m",
      "\u001b[0;31mSpotifyOauthError\u001b[0m                         Traceback (most recent call last)",
      "\u001b[0;32m<ipython-input-3-bdef0f119c8f>\u001b[0m in \u001b[0;36m<module>\u001b[0;34m\u001b[0m\n\u001b[1;32m      6\u001b[0m                                    \u001b[0mclient_id\u001b[0m\u001b[0;34m=\u001b[0m\u001b[0;34m\"569563cc71bb4548a49d5e53d7b226a3\"\u001b[0m\u001b[0;34m,\u001b[0m\u001b[0;34m\u001b[0m\u001b[0;34m\u001b[0m\u001b[0m\n\u001b[1;32m      7\u001b[0m                                    \u001b[0mclient_secret\u001b[0m\u001b[0;34m=\u001b[0m\u001b[0msecret\u001b[0m\u001b[0;34m,\u001b[0m\u001b[0;34m\u001b[0m\u001b[0;34m\u001b[0m\u001b[0m\n\u001b[0;32m----> 8\u001b[0;31m                                    redirect_uri = 'http://localhost:8080')\n\u001b[0m\u001b[1;32m      9\u001b[0m \u001b[0mspotify\u001b[0m \u001b[0;34m=\u001b[0m \u001b[0mspotipy\u001b[0m\u001b[0;34m.\u001b[0m\u001b[0mSpotify\u001b[0m\u001b[0;34m(\u001b[0m\u001b[0mauth\u001b[0m\u001b[0;34m=\u001b[0m\u001b[0mtoken\u001b[0m\u001b[0;34m)\u001b[0m\u001b[0;34m\u001b[0m\u001b[0;34m\u001b[0m\u001b[0m\n",
      "\u001b[0;32m/opt/anaconda3/lib/python3.7/site-packages/spotipy/util.py\u001b[0m in \u001b[0;36mprompt_for_user_token\u001b[0;34m(username, scope, client_id, client_secret, redirect_uri, cache_path, oauth_manager, show_dialog)\u001b[0m\n\u001b[1;32m     78\u001b[0m         \u001b[0mscope\u001b[0m\u001b[0;34m=\u001b[0m\u001b[0mscope\u001b[0m\u001b[0;34m,\u001b[0m\u001b[0;34m\u001b[0m\u001b[0;34m\u001b[0m\u001b[0m\n\u001b[1;32m     79\u001b[0m         \u001b[0mcache_path\u001b[0m\u001b[0;34m=\u001b[0m\u001b[0mcache_path\u001b[0m\u001b[0;34m,\u001b[0m\u001b[0;34m\u001b[0m\u001b[0;34m\u001b[0m\u001b[0m\n\u001b[0;32m---> 80\u001b[0;31m         \u001b[0mshow_dialog\u001b[0m\u001b[0;34m=\u001b[0m\u001b[0mshow_dialog\u001b[0m\u001b[0;34m\u001b[0m\u001b[0;34m\u001b[0m\u001b[0m\n\u001b[0m\u001b[1;32m     81\u001b[0m     )\n\u001b[1;32m     82\u001b[0m \u001b[0;34m\u001b[0m\u001b[0m\n",
      "\u001b[0;32m/opt/anaconda3/lib/python3.7/site-packages/spotipy/oauth2.py\u001b[0m in \u001b[0;36m__init__\u001b[0;34m(self, client_id, client_secret, redirect_uri, state, scope, cache_path, username, proxies, show_dialog, requests_timeout)\u001b[0m\n\u001b[1;32m    193\u001b[0m \u001b[0;34m\u001b[0m\u001b[0m\n\u001b[1;32m    194\u001b[0m         \u001b[0mself\u001b[0m\u001b[0;34m.\u001b[0m\u001b[0mclient_id\u001b[0m \u001b[0;34m=\u001b[0m \u001b[0mclient_id\u001b[0m\u001b[0;34m\u001b[0m\u001b[0;34m\u001b[0m\u001b[0m\n\u001b[0;32m--> 195\u001b[0;31m         \u001b[0mself\u001b[0m\u001b[0;34m.\u001b[0m\u001b[0mclient_secret\u001b[0m \u001b[0;34m=\u001b[0m \u001b[0mclient_secret\u001b[0m\u001b[0;34m\u001b[0m\u001b[0;34m\u001b[0m\u001b[0m\n\u001b[0m\u001b[1;32m    196\u001b[0m         \u001b[0mself\u001b[0m\u001b[0;34m.\u001b[0m\u001b[0mredirect_uri\u001b[0m \u001b[0;34m=\u001b[0m \u001b[0mredirect_uri\u001b[0m\u001b[0;34m\u001b[0m\u001b[0;34m\u001b[0m\u001b[0m\n\u001b[1;32m    197\u001b[0m         \u001b[0mself\u001b[0m\u001b[0;34m.\u001b[0m\u001b[0mstate\u001b[0m \u001b[0;34m=\u001b[0m \u001b[0mstate\u001b[0m\u001b[0;34m\u001b[0m\u001b[0;34m\u001b[0m\u001b[0m\n",
      "\u001b[0;32m/opt/anaconda3/lib/python3.7/site-packages/spotipy/oauth2.py\u001b[0m in \u001b[0;36mclient_secret\u001b[0;34m(self, val)\u001b[0m\n\u001b[1;32m     68\u001b[0m     \u001b[0;34m@\u001b[0m\u001b[0mclient_secret\u001b[0m\u001b[0;34m.\u001b[0m\u001b[0msetter\u001b[0m\u001b[0;34m\u001b[0m\u001b[0;34m\u001b[0m\u001b[0m\n\u001b[1;32m     69\u001b[0m     \u001b[0;32mdef\u001b[0m \u001b[0mclient_secret\u001b[0m\u001b[0;34m(\u001b[0m\u001b[0mself\u001b[0m\u001b[0;34m,\u001b[0m \u001b[0mval\u001b[0m\u001b[0;34m)\u001b[0m\u001b[0;34m:\u001b[0m\u001b[0;34m\u001b[0m\u001b[0;34m\u001b[0m\u001b[0m\n\u001b[0;32m---> 70\u001b[0;31m         \u001b[0mself\u001b[0m\u001b[0;34m.\u001b[0m\u001b[0m_client_secret\u001b[0m \u001b[0;34m=\u001b[0m \u001b[0m_ensure_value\u001b[0m\u001b[0;34m(\u001b[0m\u001b[0mval\u001b[0m\u001b[0;34m,\u001b[0m \u001b[0;34m\"client_secret\"\u001b[0m\u001b[0;34m)\u001b[0m\u001b[0;34m\u001b[0m\u001b[0;34m\u001b[0m\u001b[0m\n\u001b[0m\u001b[1;32m     71\u001b[0m \u001b[0;34m\u001b[0m\u001b[0m\n\u001b[1;32m     72\u001b[0m     \u001b[0;34m@\u001b[0m\u001b[0mproperty\u001b[0m\u001b[0;34m\u001b[0m\u001b[0;34m\u001b[0m\u001b[0m\n",
      "\u001b[0;32m/opt/anaconda3/lib/python3.7/site-packages/spotipy/oauth2.py\u001b[0m in \u001b[0;36m_ensure_value\u001b[0;34m(value, env_key)\u001b[0m\n\u001b[1;32m     49\u001b[0m             \u001b[0menv_val\u001b[0m\u001b[0;34m,\u001b[0m\u001b[0;34m\u001b[0m\u001b[0;34m\u001b[0m\u001b[0m\n\u001b[1;32m     50\u001b[0m         )\n\u001b[0;32m---> 51\u001b[0;31m         \u001b[0;32mraise\u001b[0m \u001b[0mSpotifyOauthError\u001b[0m\u001b[0;34m(\u001b[0m\u001b[0mmsg\u001b[0m\u001b[0;34m)\u001b[0m\u001b[0;34m\u001b[0m\u001b[0;34m\u001b[0m\u001b[0m\n\u001b[0m\u001b[1;32m     52\u001b[0m     \u001b[0;32mreturn\u001b[0m \u001b[0m_val\u001b[0m\u001b[0;34m\u001b[0m\u001b[0;34m\u001b[0m\u001b[0m\n\u001b[1;32m     53\u001b[0m \u001b[0;34m\u001b[0m\u001b[0m\n",
      "\u001b[0;31mSpotifyOauthError\u001b[0m: No client_secret. Pass it or set a SPOTIPY_CLIENT_SECRET environment variable."
     ]
    }
   ],
   "source": [
    "#Auth into Spotify api\n",
    "secret = os.environ.get('SPOTIPY_CLIENT_SECRET')\n",
    "scope = 'playlist-modify-private playlist-modify-public user-top-read playlist-read-private user-library-read user-follow-read'\n",
    "username = 'isaacbradys'\n",
    "token = util.prompt_for_user_token(username, scope, \n",
    "                                   client_id=\"569563cc71bb4548a49d5e53d7b226a3\", \n",
    "                                   client_secret = secret, \n",
    "                                   redirect_uri = 'http://localhost:8080')\n",
    "spotify = spotipy.Spotify(auth=token)"
   ]
  },
  {
   "cell_type": "code",
   "execution_count": 3,
   "metadata": {},
   "outputs": [
    {
     "name": "stdout",
     "output_type": "stream",
     "text": [
      "Following 53 artists. They're average popularity is 52.68 out of 100\n"
     ]
    }
   ],
   "source": [
    "#Grab the artists I follow into list\n",
    "following_results = spotify.current_user_followed_artists(limit=50)\n",
    "artist_names = []\n",
    "artist_pop = []\n",
    "NextPage = True\n",
    "while NextPage:\n",
    "    if not following_results['artists']['next']:\n",
    "        NextPage = False\n",
    "    for item in following_results['artists'][\"items\"]:\n",
    "        artist_names.append(item[\"name\"])\n",
    "        artist_pop.append(item['popularity'])\n",
    "    following_results = spotify.next(following_results['artists'])\n",
    "    \n",
    "following_count = len(artist_names)\n",
    "print(\"Following \" + str(following_count) + \n",
    "      \" artists. They're average popularity is \" + str(round(sum(artist_pop)/len(artist_pop), 2)) + \" out of 100\")"
   ]
  },
  {
   "cell_type": "code",
   "execution_count": 4,
   "metadata": {},
   "outputs": [
    {
     "name": "stdout",
     "output_type": "stream",
     "text": [
      "Mac DeMarco\n",
      "Tame Impala\n",
      "Alexandra Savior\n",
      "Andy Shauf\n",
      "Men I Trust\n",
      "Kevin Morby\n",
      "Dirty Projectors\n",
      "Jim Reeves\n",
      "Spock's Grand Amen\n",
      "Stella Donnelly\n",
      "WILLOW\n",
      "Isobel Waller-Bridge\n",
      "Chaos Chaos\n",
      "HOMESHAKE\n",
      "Her's\n",
      "Kate Bollinger\n",
      "Faye Webster\n",
      "Oscar Lang\n",
      "Anna Burch\n",
      "Mac Miller\n",
      "Out of my top 20 artists. They're average popularity is 56.95 out of 100\n"
     ]
    }
   ],
   "source": [
    "#current_user_top_artists\n",
    "top_artists_results = spotify.current_user_top_artists()\n",
    "top_artists_pop = []\n",
    "\n",
    "for item in top_artists_results[\"items\"]:\n",
    "    print(item[\"name\"])\n",
    "    artist_names.append(item[\"name\"])\n",
    "    top_artists_pop.append(item['popularity'])\n",
    "    \n",
    "print(\"Out of my top 20 artists. They're average popularity is \" + \n",
    "      str(round(sum(top_artists_pop)/len(top_artists_pop), 2)) + \" out of 100\")"
   ]
  },
  {
   "cell_type": "code",
   "execution_count": 5,
   "metadata": {},
   "outputs": [
    {
     "name": "stdout",
     "output_type": "stream",
     "text": [
      "Added an additional 143 artists from saved songs. In total we have 196 artists. These are all the artists we like: \n",
      " \n",
      "{'Justice Der', 'Ariel Days', 'Daveed Diggs', 'Adult Mom', 'Surfer Blood', 'ARTHUR', 'Bombay Bicycle Club', 'Pretty Lights', 'Sharon Van Etten', 'Paul Cherry', 'WILLOW', 'The Drums', 'Yumi Zouma', 'The Dig', 'Reptar', 'Animal Collective', 'Clarence James', 'Kate Bollinger', 'Ghostland Observatory', 'The xx', 'Thee Oh Sees', 'Toro y Moi', 'Blackbird Blackbird', 'Courtney Barnett', 'Radiohead', 'Small Forward', 'xxyyxx', 'Anna Burch', 'Porcelain Raft', 'Tame Impala', 'Remi Wolf', 'The Strokes', \"Spock's Grand Amen\", 'CuckooLander', 'Craft Spells', 'Glass Animals', 'Benjamin Schoos', 'Justin Hurwitz', 'Faye Webster', 'Part Time', 'NEIL FRANCES', 'Banes World', 'BOYO', 'Soccer Mommy', 'Hanni El Khatib', 'Ricky Eat Acid', 'Mabel Ye', 'Sunset Rollercoaster', 'Albert Hammond, Jr.', 'ODESZA', 'Julia Jacklin', 'Gap Dream', 'Quilt', 'Whitney', 'Stella Donnelly', '6LACK', 'Mac Miller', 'Molly Burch', 'Monster Rally', 'Lucius', 'SadGirl', 'The Ray Conniff Singers', 'Dumbo Gets Mad', 'Lin-Manuel Miranda', 'Tennis', 'Caleb Darger', 'Tourist', 'SALES', 'Jakob Ogawa', 'Lucy Dacus', 'Hector Gachan', 'Renée Elise Goldsberry', 'OH!hello', 'MGMT', 'Isobel Waller-Bridge', 'Wet', 'Emily Brown', 'Dirty Projectors', 'fern', 'Big Thief', 'Phillipa Soo', 'Chad Valley', 'Arcade Fire', 'Alvvays', 'Santoré', 'Alexandra Savior', 'Men I Trust', 'Temples', 'Summer Salt', 'Panda Bear', 'Emily Reo', 'Ritt Momney', 'Karen O', 'WU LYF', 'Kevin Morby', 'Mountain Man', 'Adrianne Lenker', 'Anthony Ramos', 'M. T. Hadley', 'Dirty Art Club', 'Discovery', \"Dre'es\", 'Safe', 'Jim Reeves', 'Real Estate', 'Exitmusic', 'Khruangbin', 'Andy Shauf', 'Caribou', 'Buffy Sainte-Marie', 'The War On Drugs', 'Passion Pit', 'Oscar Lang', 'Night Beds', 'Ray Conniff', 'Original Broadway Cast of Hamilton', 'Jonathan Groff', 'Ducktails', 'gobbinjr', 'Junip', 'Good Morning', 'Gypsy & The Cat', 'Thayne Jasperson', 'Lia Ices', 'Jacco Gardner', 'Haley Heynderickx', 'Leslie Odom Jr.', 'Nico', 'Slumbers', 'Hurray For The Riff Raff', 'American Royalty', 'Future Islands', 'Jerry Paper', 'Flume', 'Harriet', 'Billy Lemos', 'Cults', 'Frank Ocean', 'Twist', 'Boys Age', 'Elvis Presley', 'FLOOR CRY', 'Born Ruffians', 'Tiny Ruins', 'Hasani', 'Alela Diane', 'Triathalon', 'Happyness', 'Youth Lagoon', 'HOMESHAKE', 'Frankie Cosmos', 'Summer Heart', 'Gauntlet Hair', 'Mac DeMarco', 'Ratatat', 'Sniffle Party', 'Deerhoof', 'Renata Zeiguer', 'Angel Olsen', 'Chaos Chaos', 'Steve Lacy', 'Summer Camp', 'Jaunt', 'Travis Bretzer', 'Mild High Club', 'Mk.gee', 'Beach House', 'Bill Waters', 'Childish Gambino', 'Juan Wauters', 'Le Couleur', 'Sam Benson', 'Neoflesh', 'Jasmine Cephas-Jones', 'Sports', 'DYAN', \"Her's\", 'Broadcast', 'Blood Orange', 'Rivergazer', 'Washed Out', 'Mitski', 'Lady Lamb', 'Tune-Yards', 'Child Ivory', 'Chance the Rapper', 'Christopher Jackson', 'MorMor', 'Son Lux', 'Javelin', 'Whatever, Dad', 'Rhye', 'Kanye West', 'Mystic Braves', 'STRFKR', 'Sarah Jaffe'}\n"
     ]
    }
   ],
   "source": [
    "#Grab more artists from the songs I've saved\n",
    "results = spotify.current_user_saved_tracks()\n",
    "nex = True\n",
    "while nex:\n",
    "    if not results['next']:\n",
    "        nex = False\n",
    "    for item in results[\"items\"]:\n",
    "        track = item[\"track\"]\n",
    "        artist_names.append(track[\"artists\"][0][\"name\"])\n",
    "    results = spotify.next(results)\n",
    "\n",
    "setOfArtistsWeLike = set(artist_names)\n",
    "print(\"Added an additional \" + str(len(setOfArtistsWeLike)-following_count) + \n",
    "      \" artists from saved songs. In total we have \" + str(len(setOfArtistsWeLike)) + \n",
    "      \" artists. These are all the artists we like: \\n \\n\" + str(setOfArtistsWeLike))"
   ]
  },
  {
   "cell_type": "code",
   "execution_count": 6,
   "metadata": {},
   "outputs": [
    {
     "name": "stdout",
     "output_type": "stream",
     "text": [
      "retrying after...1secs\n",
      "New tracks from 117 artists including \n",
      " \n",
      "{'Wiz Khalifa', 'Kina', 'Sebastian Yatra', 'Liam Payne', 'Sam Hunt', 'Ant Saunders', 'Ingrid Andress', 'Purity Ring', 'Gryffin', 'JOYRYDE', 'DaBaby', 'Yves Tumor', 'Alaina Castillo', 'Kenny Chesney', 'Amber Mark', 'Greg Nice', 'NAV', 'Yaeji', 'The Strokes', 'ROSALÍA', 'Calibre 50', 'Kaskade', 'Joyner Lucas', 'Laura Marling', 'Anuel AA', 'Leon Bridges', 'Camilo', 'Little Dragon', 'PARTYNEXTDOOR', 'Calvin Harris', 'Chris Lane', 'Alesso', 'Filmore', 'All Time Low', 'Sech', 'Pearl Jam', 'Kane Brown', 'John Anderson', 'Flo Milli', 'Black Eyed Peas', 'Ashley McBryde', 'Nine Inch Nails', 'Pink Sweat$', 'Hayley Williams', 'Steve Aoki', 'Trevor Daniel', 'Maddie & Tae', 'DJ Premier', 'Love Regenerator', 'Turbo', 'Young Thug', 'Ricky Martin', 'Excision', 'Tyga', 'Oliver Tree', 'Twenty One Pilots', 'Tory Lanez', 'Asian Doll', 'Drake', 'Ozuna', 'Troye Sivan', 'Waxahatchee', '5 Seconds of Summer', 'Phoebe Bridgers', 'FISHER', 'Alina Baraz', 'Diana Gordon', 'Tash Sultana', 'M. Ward', 'Bright Eyes', '22Gz', '2KBABY', 'In This Moment', 'OneRepublic', 'Jessie Reyez', 'Sasha Sloan', 'Polo G', 'John Legend', 'Hollaphonic', 'yaeow', 'Florida Georgia Line', 'Zara Larsson', 'ILLENIUM', 'Toni Braxton', 'En Vogue', 'Kiana Ledé', 'I Prevail', 'Lee Brice', 'Thomas Rhett', 'Orion Sun', 'GAWVI', 'Hamilton Leithauser', 'Dua Lipa', 'Cavetown', 'Kygo', 'Ledisi', 'Chrissy Metz', 'Childish Gambino', 'Toby Keith', 'KAROL G', 'Fuerza Regida', 'CID', 'Gunna', 'Thundercat', 'Future', 'John Mayer', 'Nicky Romero', 'Xriss', 'Mosaic MSC', 'Rod Wave', 'Run The Jewels', 'J. Rey Soul', 'Comethazine', 'Phish', 'Empress Of', 'STRFKR', 'Eli Brown'}\n"
     ]
    }
   ],
   "source": [
    "#Get all the new releases (singles, compilations, and albums)\n",
    "newReleases = spotify.new_releases(\"US\")\n",
    "new_songs = []\n",
    "aritstsInNewReleases = []\n",
    "this = True\n",
    "while this:\n",
    "    if not newReleases[\"albums\"][\"next\"]:\n",
    "        this = False\n",
    "    for release in newReleases[\"albums\"][\"items\"]:\n",
    "\n",
    "        if(release[\"album_type\"] == \"album\"):\n",
    "            album = spotify.album(release[\"id\"])\n",
    "            for track in album[\"tracks\"][\"items\"]:\n",
    "                weLikeArtist = False\n",
    "                for artist in release[\"artists\"]:\n",
    "                    aritstsInNewReleases.append(artist[\"name\"])\n",
    "                    if artist[\"name\"] in setOfArtistsWeLike:\n",
    "                        weLikeArtist = True\n",
    "                        break\n",
    "\n",
    "                if weLikeArtist:\n",
    "                    new_songs.append(track)\n",
    "                    \n",
    "        if(release[\"album_type\"] == \"compilations\"):\n",
    "            album = spotify.album(release[\"id\"])\n",
    "            for track in album[\"tracks\"][\"items\"]:\n",
    "                weLikeArtist = False\n",
    "                for artist in release[\"artists\"]:\n",
    "                    aritstsInNewReleases.append(artist[\"name\"])\n",
    "                    if artist[\"name\"] in setOfArtistsWeLike:\n",
    "                        weLikeArtist = True\n",
    "                        break\n",
    "\n",
    "                if weLikeArtist:\n",
    "                    new_songs.append(track)\n",
    "\n",
    "\n",
    "        if(release[\"album_type\"] == \"single\"):\n",
    "            album = spotify.album(release[\"id\"])\n",
    "            for track in album[\"tracks\"][\"items\"]:\n",
    "                weLikeArtist = False\n",
    "                for artist in release[\"artists\"]:\n",
    "                    aritstsInNewReleases.append(artist[\"name\"])\n",
    "                    weLikeArtist = False\n",
    "                    if artist[\"name\"] in setOfArtistsWeLike:\n",
    "                        weLikeArtist = True\n",
    "                        break\n",
    "\n",
    "                if weLikeArtist:\n",
    "                    new_songs.append(track)\n",
    "                    \n",
    "    newReleases = spotify.next(newReleases[\"albums\"])\n",
    "\n",
    "print('New tracks from ' + str(len(set(aritstsInNewReleases))) + \n",
    "      ' artists including \\n \\n' + str(set(aritstsInNewReleases)))"
   ]
  },
  {
   "cell_type": "code",
   "execution_count": 7,
   "metadata": {},
   "outputs": [
    {
     "name": "stdout",
     "output_type": "stream",
     "text": [
      "104\n"
     ]
    }
   ],
   "source": [
    "#Grab the current Playlist so that I don't add duplicates\n",
    "playlist_tracks = spotify.user_playlist_tracks(playlist_id = '7F7HVvK9qTkyRt1uUpvd4i')\n",
    "playlist_id = []\n",
    "nextone = True\n",
    "while nextone:\n",
    "    if not playlist_tracks['next']:\n",
    "        nextone = False\n",
    "    for item in playlist_tracks[\"items\"]:\n",
    "        playlist_id.append(item['track']['id'])\n",
    "    playlist_tracks = spotify.next(playlist_tracks)\n",
    "print(len(playlist_id))"
   ]
  },
  {
   "cell_type": "code",
   "execution_count": 8,
   "metadata": {},
   "outputs": [
    {
     "name": "stdout",
     "output_type": "stream",
     "text": [
      "Taking out The Adults Are Talking because it's already in the playlist\n",
      "Taking out Selfless because it's already in the playlist\n",
      "Taking out Brooklyn Bridge To Chorus because it's already in the playlist\n",
      "Taking out Bad Decisions because it's already in the playlist\n",
      "Taking out Eternal Summer because it's already in the playlist\n",
      "Taking out At The Door because it's already in the playlist\n",
      "Taking out Why Are Sunday's So Depressing because it's already in the playlist\n",
      "Taking out Not The Same Anymore because it's already in the playlist\n",
      "Taking out Ode To The Mets because it's already in the playlist\n",
      "Taking out 0.00 because it's already in the playlist\n",
      "Taking out Algorhythm because it's already in the playlist\n",
      "Taking out Time because it's already in the playlist\n",
      "Taking out 12.38 because it's already in the playlist\n",
      "Taking out 19.10 because it's already in the playlist\n",
      "Taking out 24.19 because it's already in the playlist\n",
      "Taking out 32.22 because it's already in the playlist\n",
      "Taking out 35.31 because it's already in the playlist\n",
      "Taking out 39.28 because it's already in the playlist\n",
      "Taking out 42.26 because it's already in the playlist\n",
      "Taking out 47.48 because it's already in the playlist\n",
      "Taking out 53.49 because it's already in the playlist\n"
     ]
    }
   ],
   "source": [
    "#Eliminate Duplicates\n",
    "final_songs = []\n",
    "for track in new_songs:\n",
    "    if track['id'] in playlist_id:\n",
    "        print(\"Taking out \" + track['name'] + \" because it's already in the playlist\")\n",
    "    else:\n",
    "        final_songs.append(track)"
   ]
  },
  {
   "cell_type": "code",
   "execution_count": 11,
   "metadata": {},
   "outputs": [
    {
     "name": "stdout",
     "output_type": "stream",
     "text": [
      "Script found 10 new songs! \n",
      "\n",
      "STRFKR - Dear Stranger\n",
      "STRFKR - Never The Same\n",
      "STRFKR - Deep Dream\n",
      "STRFKR - Second Hand\n",
      "STRFKR - Better Together\n",
      "STRFKR - Budapest (feat. Shy Boys)\n",
      "STRFKR - Palm Reader\n",
      "STRFKR - Sea Foam\n",
      "STRFKR - Pink Noise\n",
      "STRFKR - Cold Comfort\n",
      "Add or not? Yes or No \n",
      "No\n",
      "These songs weren't added!\n"
     ]
    }
   ],
   "source": [
    "if len(final_songs) == 0:\n",
    "    print(\"sry nothing new to add\")\n",
    "else:\n",
    "    print(\"Script found \" + str(len(final_songs)) + \" new songs! \\n\")\n",
    "    for track in final_songs:\n",
    "        if track['id'] not in playlist_id:\n",
    "            print(track[\"artists\"][0][\"name\"] + \" - \" + track[\"name\"])\n",
    "\n",
    "    okay = input(\"Add or not? Yes or No \\n\")\n",
    "    if okay == 'Yes':\n",
    "        for track in final_songs:\n",
    "            spotify.user_playlist_add_tracks(\"isaacbradys\",\"7F7HVvK9qTkyRt1uUpvd4i\", [track[\"id\"]])\n",
    "        print(\"These songs were added! Go check them out!\")\n",
    "    else:\n",
    "        print(\"These songs weren't added!\")"
   ]
  },
  {
   "cell_type": "code",
   "execution_count": null,
   "metadata": {},
   "outputs": [],
   "source": []
  }
 ],
 "metadata": {
  "kernelspec": {
   "display_name": "Python 3",
   "language": "python",
   "name": "python3"
  },
  "language_info": {
   "codemirror_mode": {
    "name": "ipython",
    "version": 3
   },
   "file_extension": ".py",
   "mimetype": "text/x-python",
   "name": "python",
   "nbconvert_exporter": "python",
   "pygments_lexer": "ipython3",
   "version": "3.7.4"
  }
 },
 "nbformat": 4,
 "nbformat_minor": 2
}
