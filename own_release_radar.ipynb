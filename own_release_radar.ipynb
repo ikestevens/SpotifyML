{
 "cells": [
  {
   "cell_type": "code",
   "execution_count": 1,
   "metadata": {},
   "outputs": [],
   "source": [
    "import spotipy\n",
    "import spotipy.util as util\n",
    "import os"
   ]
  },
  {
   "cell_type": "code",
   "execution_count": 2,
   "metadata": {},
   "outputs": [],
   "source": [
    "#Auth into Spotify api\n",
    "secret = os.environ.get('SPOTIPY_CLIENT_SECRET')\n",
    "scope = 'playlist-modify-private playlist-modify-public user-top-read playlist-read-private user-library-read user-follow-read'\n",
    "username = 'isaacbradys'\n",
    "token = util.prompt_for_user_token(username, scope, \n",
    "                                   client_id=\"569563cc71bb4548a49d5e53d7b226a3\", \n",
    "                                   client_secret = secret, \n",
    "                                   redirect_uri = 'http://localhost:8080')\n",
    "spotify = spotipy.Spotify(auth=token)"
   ]
  },
  {
   "cell_type": "code",
   "execution_count": 3,
   "metadata": {},
   "outputs": [
    {
     "name": "stdout",
     "output_type": "stream",
     "text": [
      "Following 53 artists. They're average popularity is 53.19 out of 100\n"
     ]
    }
   ],
   "source": [
    "#Grab the artists I follow into list\n",
    "following_results = spotify.current_user_followed_artists(limit=50)\n",
    "artist_names = []\n",
    "artist_pop = []\n",
    "NextPage = True\n",
    "while NextPage:\n",
    "    if not following_results['artists']['next']:\n",
    "        NextPage = False\n",
    "    for item in following_results['artists'][\"items\"]:\n",
    "        artist_names.append(item[\"name\"])\n",
    "        artist_pop.append(item['popularity'])\n",
    "    following_results = spotify.next(following_results['artists'])\n",
    "    \n",
    "following_count = len(artist_names)\n",
    "print(\"Following \" + str(following_count) + \n",
    "      \" artists. They're average popularity is \" + str(round(sum(artist_pop)/len(artist_pop), 2)) + \" out of 100\")"
   ]
  },
  {
   "cell_type": "code",
   "execution_count": 4,
   "metadata": {},
   "outputs": [
    {
     "name": "stdout",
     "output_type": "stream",
     "text": [
      "Mac DeMarco\n",
      "Tame Impala\n",
      "Alexandra Savior\n",
      "Dirty Projectors\n",
      "Andy Shauf\n",
      "Men I Trust\n",
      "Kevin Morby\n",
      "Jim Reeves\n",
      "Spock's Grand Amen\n",
      "Stella Donnelly\n",
      "WILLOW\n",
      "Isobel Waller-Bridge\n",
      "Chaos Chaos\n",
      "HOMESHAKE\n",
      "The Strokes\n",
      "Her's\n",
      "Kate Bollinger\n",
      "Oscar Lang\n",
      "Faye Webster\n",
      "Anna Burch\n",
      "Out of my top 20 artists. They're average popularity is 57.05 out of 100\n"
     ]
    }
   ],
   "source": [
    "#current_user_top_artists\n",
    "top_artists_results = spotify.current_user_top_artists()\n",
    "top_artists_pop = []\n",
    "\n",
    "for item in top_artists_results[\"items\"]:\n",
    "    print(item[\"name\"])\n",
    "    artist_names.append(item[\"name\"])\n",
    "    top_artists_pop.append(item['popularity'])\n",
    "    \n",
    "print(\"Out of my top 20 artists. They're average popularity is \" + \n",
    "      str(round(sum(top_artists_pop)/len(top_artists_pop), 2)) + \" out of 100\")"
   ]
  },
  {
   "cell_type": "code",
   "execution_count": 5,
   "metadata": {},
   "outputs": [
    {
     "name": "stdout",
     "output_type": "stream",
     "text": [
      "Added an additional 142 artists from saved songs. In total we have 195 artists. These are all the artists we like: \n",
      " \n",
      "{'Cults', 'Mild High Club', 'Animal Collective', 'WILLOW', '6LACK', 'Buffy Sainte-Marie', 'Blood Orange', 'Gauntlet Hair', 'Le Couleur', 'The xx', 'Toro y Moi', 'Glass Animals', 'Sharon Van Etten', 'Billy Lemos', 'Temples', 'STRFKR', 'Safe', 'WU LYF', 'The Strokes', 'Real Estate', 'Daveed Diggs', 'Slumbers', 'Mac DeMarco', 'Dirty Art Club', 'Albert Hammond, Jr.', 'Child Ivory', 'Faye Webster', 'M. T. Hadley', 'Part Time', 'OH!hello', 'Chaos Chaos', 'MorMor', 'Haley Heynderickx', 'Dumbo Gets Mad', 'Christopher Jackson', 'Quilt', 'Jerry Paper', 'Thayne Jasperson', 'Reptar', 'Stella Donnelly', 'Surfer Blood', 'Wet', 'Isobel Waller-Bridge', 'SadGirl', 'Night Beds', 'Dirty Projectors', 'Ariel Days', 'Tame Impala', 'Alvvays', 'Twist', 'Mountain Man', 'Kanye West', 'Ghostland Observatory', \"Spock's Grand Amen\", 'Jonathan Groff', 'Tennis', 'Angel Olsen', 'Alela Diane', 'Kevin Morby', 'Alexandra Savior', 'Craft Spells', 'Porcelain Raft', 'xxyyxx', 'Radiohead', 'Mitski', 'Jaunt', 'Phillipa Soo', 'Renata Zeiguer', 'Karen O', 'Paul Cherry', 'Clarence James', 'Arcade Fire', 'Sarah Jaffe', 'Original Broadway Cast of Hamilton', 'Tourist', 'Small Forward', 'Triathalon', 'Future Islands', 'Boys Age', 'Elvis Presley', 'Sam Benson', 'American Royalty', 'Hasani', 'Youth Lagoon', 'Pretty Lights', 'Emily Reo', 'The Dig', 'Julia Jacklin', 'Thee Oh Sees', 'Molly Burch', 'Ratatat', 'Sniffle Party', 'Ritt Momney', 'The Drums', 'Flume', 'Renée Elise Goldsberry', 'Passion Pit', 'Jasmine Cephas-Jones', 'Jim Reeves', 'Summer Heart', 'Deerhoof', 'Harriet', 'SALES', 'Summer Camp', 'Anthony Ramos', 'Childish Gambino', 'Frankie Cosmos', 'Neoflesh', 'Lucy Dacus', 'Exitmusic', 'Tune-Yards', 'HOMESHAKE', 'Leslie Odom Jr.', 'Son Lux', 'Kate Bollinger', 'Sports', 'ARTHUR', 'Rhye', 'Caleb Darger', 'Whitney', 'Hanni El Khatib', 'Whatever, Dad', 'Bill Waters', 'Justin Hurwitz', 'Steve Lacy', 'Monster Rally', 'BOYO', 'FLOOR CRY', 'DYAN', \"Her's\", 'Nico', 'Ducktails', 'Chad Valley', 'The War On Drugs', 'Broadcast', 'Big Thief', 'Hector Gachan', 'Frank Ocean', 'Happyness', 'Jacco Gardner', 'Lia Ices', 'Ricky Eat Acid', 'Gap Dream', 'Discovery', 'Oscar Lang', 'Lady Lamb', 'Khruangbin', 'Bombay Bicycle Club', 'CuckooLander', 'Javelin', 'Juan Wauters', 'Chance the Rapper', 'Washed Out', 'MGMT', 'Panda Bear', 'Adrianne Lenker', 'Soccer Mommy', 'Beach House', 'Hurray For The Riff Raff', 'Travis Bretzer', 'fern', 'Santoré', 'Anna Burch', 'Sunset Rollercoaster', 'Junip', 'gobbinjr', 'Gypsy & The Cat', 'Caribou', 'Lucius', 'NEIL FRANCES', 'Blackbird Blackbird', 'Justice Der', 'Jakob Ogawa', 'Summer Salt', 'Adult Mom', 'Mystic Braves', 'Benjamin Schoos', 'Banes World', \"Dre'es\", 'Andy Shauf', 'Remi Wolf', 'Mk.gee', 'Yumi Zouma', 'Tiny Ruins', 'ODESZA', 'The Ray Conniff Singers', 'Born Ruffians', 'Ray Conniff', 'Rivergazer', 'Mabel Ye', 'Men I Trust', 'Lin-Manuel Miranda', 'Good Morning', 'Courtney Barnett', 'Emily Brown'}\n"
     ]
    }
   ],
   "source": [
    "#Grab more artists from the songs I've saved\n",
    "results = spotify.current_user_saved_tracks()\n",
    "nex = True\n",
    "while nex:\n",
    "    if not results['next']:\n",
    "        nex = False\n",
    "    for item in results[\"items\"]:\n",
    "        track = item[\"track\"]\n",
    "        artist_names.append(track[\"artists\"][0][\"name\"])\n",
    "    results = spotify.next(results)\n",
    "\n",
    "setOfArtistsWeLike = set(artist_names)\n",
    "print(\"Added an additional \" + str(len(setOfArtistsWeLike)-following_count) + \n",
    "      \" artists from saved songs. In total we have \" + str(len(setOfArtistsWeLike)) + \n",
    "      \" artists. These are all the artists we like: \\n \\n\" + str(setOfArtistsWeLike))"
   ]
  },
  {
   "cell_type": "code",
   "execution_count": 6,
   "metadata": {},
   "outputs": [
    {
     "name": "stdout",
     "output_type": "stream",
     "text": [
      "retrying after...3secs\n",
      "New tracks from 114 artists including \n",
      " \n",
      "{'The White Buffalo', 'Kid Cudi', 'Amber Mark', 'Kent Jamz', 'Gryffin', 'Kygo', 'All Time Low', 'Hamilton Leithauser', 'Turbo', 'dvsn', 'Andrea Bocelli', 'Phoebe Bridgers', 'Rod Wave', 'J. Rey Soul', 'Fuerza Regida', 'Lee Brice', 'STRFKR', '21 Savage', 'The Strokes', 'yaeow', 'Future', 'Kina', 'Fredo Bang', 'Kiana Ledé', 'Ruston Kelly', 'Ozuna', 'Yaeji', '22Gz', 'Toni Braxton', 'Calibre 50', 'GAWVI', 'Hayley Williams', 'Flo Milli', 'The-Dream', 'Demi Lovato', 'Sasha Sloan', 'JOYRYDE', 'DaBaby', 'En Vogue', 'Maddie & Tae', 'KAROL G', 'ARTY', 'Kaskade', 'Still Woozy', 'Fiona Apple', 'John Anderson', 'Drake', 'Angels & Airwaves', 'Purity Ring', 'Oliver Tree', 'Liam Payne', 'Powfu', 'Polo G', 'Diplo', 'Filmore', 'Anuel AA', 'Sam Hunt', 'French Montana', 'Kenny Chesney', 'Chris Lane', 'Juice WRLD', 'Playboi Carti', 'Leon Bridges', 'Steve Aoki', 'Kelly Rowland', 'Gunna', 'Phish', 'Rvssian', 'EOB', 'Pomplamoose', 'Jameson Rodgers', 'Kenny Mason', 'Camilo', 'Joji', 'Troye Sivan', 'Anabel Englund', 'Black Eyed Peas', 'Twenty One Pilots', 'John Mayer', 'Morgan Wallen', 'Fuego', 'Sech', 'Ashley McBryde', 'Luke Combs', 'Brad Paisley', 'Kelly Clarkson', 'Summer Walker', 'Adam Doleac', 'Laura Marling', 'Thomas Rhett', 'Disciples', 'CID', 'The Used', 'Thundercat', 'Pink Sweat$', '2KBABY', 'Alesso', 'Tory Lanez', 'Young Thug', 'Asian Doll', 'Duke Dumont', 'Tate McRae', 'Buddy', 'Rina Sawayama', 'Ledisi', 'John Legend', 'Tash Sultana', 'Brett Eldredge', 'Miky Woodz', 'Brittany Howard', 'Sam Smith', 'A Day To Remember', 'Jeremy Zucker', 'Kehlani'}\n"
     ]
    }
   ],
   "source": [
    "#Get all the new releases (singles, compilations, and albums)\n",
    "newReleases = spotify.new_releases(\"US\")\n",
    "new_songs = []\n",
    "aritstsInNewReleases = []\n",
    "this = True\n",
    "while this:\n",
    "    if not newReleases[\"albums\"][\"next\"]:\n",
    "        this = False\n",
    "    for release in newReleases[\"albums\"][\"items\"]:\n",
    "\n",
    "        if(release[\"album_type\"] == \"album\"):\n",
    "            album = spotify.album(release[\"id\"])\n",
    "            for track in album[\"tracks\"][\"items\"]:\n",
    "                weLikeArtist = False\n",
    "                for artist in release[\"artists\"]:\n",
    "                    aritstsInNewReleases.append(artist[\"name\"])\n",
    "                    if artist[\"name\"] in setOfArtistsWeLike:\n",
    "                        weLikeArtist = True\n",
    "                        break\n",
    "\n",
    "                if weLikeArtist:\n",
    "                    new_songs.append(track)\n",
    "                    \n",
    "        if(release[\"album_type\"] == \"compilations\"):\n",
    "            album = spotify.album(release[\"id\"])\n",
    "            for track in album[\"tracks\"][\"items\"]:\n",
    "                weLikeArtist = False\n",
    "                for artist in release[\"artists\"]:\n",
    "                    aritstsInNewReleases.append(artist[\"name\"])\n",
    "                    if artist[\"name\"] in setOfArtistsWeLike:\n",
    "                        weLikeArtist = True\n",
    "                        break\n",
    "\n",
    "                if weLikeArtist:\n",
    "                    new_songs.append(track)\n",
    "\n",
    "\n",
    "        if(release[\"album_type\"] == \"single\"):\n",
    "            album = spotify.album(release[\"id\"])\n",
    "            for track in album[\"tracks\"][\"items\"]:\n",
    "                weLikeArtist = False\n",
    "                for artist in release[\"artists\"]:\n",
    "                    aritstsInNewReleases.append(artist[\"name\"])\n",
    "                    weLikeArtist = False\n",
    "                    if artist[\"name\"] in setOfArtistsWeLike:\n",
    "                        weLikeArtist = True\n",
    "                        break\n",
    "\n",
    "                if weLikeArtist:\n",
    "                    new_songs.append(track)\n",
    "                    \n",
    "    newReleases = spotify.next(newReleases[\"albums\"])\n",
    "\n",
    "print('New tracks from ' + str(len(set(aritstsInNewReleases))) + \n",
    "      ' artists including \\n \\n' + str(set(aritstsInNewReleases)))"
   ]
  },
  {
   "cell_type": "code",
   "execution_count": 7,
   "metadata": {},
   "outputs": [
    {
     "name": "stdout",
     "output_type": "stream",
     "text": [
      "114\n"
     ]
    }
   ],
   "source": [
    "#Grab the current Playlist so that I don't add duplicates\n",
    "playlist_tracks = spotify.user_playlist_tracks(playlist_id = '7F7HVvK9qTkyRt1uUpvd4i')\n",
    "playlist_id = []\n",
    "nextone = True\n",
    "while nextone:\n",
    "    if not playlist_tracks['next']:\n",
    "        nextone = False\n",
    "    for item in playlist_tracks[\"items\"]:\n",
    "        playlist_id.append(item['track']['id'])\n",
    "    playlist_tracks = spotify.next(playlist_tracks)\n",
    "print(len(playlist_id))"
   ]
  },
  {
   "cell_type": "code",
   "execution_count": 8,
   "metadata": {},
   "outputs": [
    {
     "name": "stdout",
     "output_type": "stream",
     "text": [
      "Taking out The Adults Are Talking because it's already in the playlist\n",
      "Taking out Selfless because it's already in the playlist\n",
      "Taking out Brooklyn Bridge To Chorus because it's already in the playlist\n",
      "Taking out Bad Decisions because it's already in the playlist\n",
      "Taking out Eternal Summer because it's already in the playlist\n",
      "Taking out At The Door because it's already in the playlist\n",
      "Taking out Why Are Sundays So Depressing because it's already in the playlist\n",
      "Taking out Not The Same Anymore because it's already in the playlist\n",
      "Taking out Ode To The Mets because it's already in the playlist\n",
      "Taking out Dear Stranger because it's already in the playlist\n",
      "Taking out Never The Same because it's already in the playlist\n",
      "Taking out Deep Dream because it's already in the playlist\n",
      "Taking out Second Hand because it's already in the playlist\n",
      "Taking out Better Together because it's already in the playlist\n",
      "Taking out Budapest (feat. Shy Boys) because it's already in the playlist\n",
      "Taking out Palm Reader because it's already in the playlist\n",
      "Taking out Sea Foam because it's already in the playlist\n",
      "Taking out Pink Noise because it's already in the playlist\n",
      "Taking out Cold Comfort because it's already in the playlist\n"
     ]
    }
   ],
   "source": [
    "#Eliminate Duplicates\n",
    "final_songs = []\n",
    "for track in new_songs:\n",
    "    if track['id'] in playlist_id:\n",
    "        print(\"Taking out \" + track['name'] + \" because it's already in the playlist\")\n",
    "    else:\n",
    "        final_songs.append(track)"
   ]
  },
  {
   "cell_type": "code",
   "execution_count": 9,
   "metadata": {},
   "outputs": [
    {
     "name": "stdout",
     "output_type": "stream",
     "text": [
      "sry nothing new to add\n"
     ]
    }
   ],
   "source": [
    "if len(final_songs) == 0:\n",
    "    print(\"sry nothing new to add\")\n",
    "else:\n",
    "    print(\"Script found \" + str(len(final_songs)) + \" new songs! \\n\")\n",
    "    for track in final_songs:\n",
    "        if track['id'] not in playlist_id:\n",
    "            print(track[\"artists\"][0][\"name\"] + \" - \" + track[\"name\"])\n",
    "\n",
    "    okay = input(\"Add or not? Yes or No \\n\")\n",
    "    if okay == 'Yes':\n",
    "        for track in final_songs:\n",
    "            spotify.user_playlist_add_tracks(\"isaacbradys\",\"7F7HVvK9qTkyRt1uUpvd4i\", [track[\"id\"]])\n",
    "        print(\"These songs were added! Go check them out!\")\n",
    "    else:\n",
    "        print(\"These songs weren't added!\")"
   ]
  },
  {
   "cell_type": "code",
   "execution_count": null,
   "metadata": {},
   "outputs": [],
   "source": []
  }
 ],
 "metadata": {
  "kernelspec": {
   "display_name": "Python 3",
   "language": "python",
   "name": "python3"
  },
  "language_info": {
   "codemirror_mode": {
    "name": "ipython",
    "version": 3
   },
   "file_extension": ".py",
   "mimetype": "text/x-python",
   "name": "python",
   "nbconvert_exporter": "python",
   "pygments_lexer": "ipython3",
   "version": "3.7.4"
  }
 },
 "nbformat": 4,
 "nbformat_minor": 2
}
