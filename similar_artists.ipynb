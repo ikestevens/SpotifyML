{
 "cells": [
  {
   "cell_type": "code",
   "execution_count": 3,
   "metadata": {},
   "outputs": [],
   "source": [
    "import spotipy\n",
    "import spotipy.util as util\n",
    "import time\n",
    "import os"
   ]
  },
  {
   "cell_type": "code",
   "execution_count": 4,
   "metadata": {},
   "outputs": [],
   "source": [
    "#Auth into Spotify api\n",
    "secret = os.environ.get('SPOTIPY_CLIENT_SECRET')\n",
    "scope = 'playlist-modify-private playlist-modify-public user-top-read playlist-read-private user-library-read user-follow-read'\n",
    "username = 'isaacbradys'\n",
    "token = util.prompt_for_user_token(username, scope,\n",
    "                                   client_id=\"569563cc71bb4548a49d5e53d7b226a3\", \n",
    "                                   client_secret = secret,\n",
    "                                   redirect_uri = 'http://localhost:8080')\n",
    "spotify = spotipy.Spotify(auth=token)"
   ]
  },
  {
   "cell_type": "code",
   "execution_count": 3,
   "metadata": {},
   "outputs": [
    {
     "name": "stdout",
     "output_type": "stream",
     "text": [
      "Following 53 artists. They're average popularity is 52.34 out of 100\n"
     ]
    }
   ],
   "source": [
    "#Grab the artists I follow into list\n",
    "following_results = spotify.current_user_followed_artists(limit=50)\n",
    "artist_names = []\n",
    "artist_pop = []\n",
    "NextPage = True\n",
    "while NextPage:\n",
    "    if not following_results['artists']['next']:\n",
    "        NextPage = False\n",
    "    for item in following_results['artists'][\"items\"]:\n",
    "        artist_names.append(item['id'])\n",
    "        artist_pop.append(item['popularity'])\n",
    "    following_results = spotify.next(following_results['artists'])\n",
    "    \n",
    "following_count = len(artist_names)\n",
    "print(\"Following \" + str(following_count) + \n",
    "      \" artists. They're average popularity is \" + str(round(sum(artist_pop)/len(artist_pop), 2)) + \" out of 100\")"
   ]
  },
  {
   "cell_type": "code",
   "execution_count": 4,
   "metadata": {},
   "outputs": [
    {
     "name": "stdout",
     "output_type": "stream",
     "text": [
      "Mac DeMarco\n",
      "Tame Impala\n",
      "Alexandra Savior\n",
      "Andy Shauf\n",
      "Men I Trust\n",
      "Kevin Morby\n",
      "Dirty Projectors\n",
      "Jim Reeves\n",
      "Spock's Grand Amen\n",
      "Stella Donnelly\n",
      "WILLOW\n",
      "Isobel Waller-Bridge\n",
      "Chaos Chaos\n",
      "Her's\n",
      "Kate Bollinger\n",
      "Faye Webster\n",
      "Oscar Lang\n",
      "Anna Burch\n",
      "Mac Miller\n",
      "Alvvays\n",
      "Out of my top 20 artists. They're average popularity is 56.75 out of 100\n"
     ]
    }
   ],
   "source": [
    "#Grab my Top 20 Current Artists \n",
    "top_artists_results = spotify.current_user_top_artists()\n",
    "top_artists_pop = []\n",
    "\n",
    "for item in top_artists_results[\"items\"]:\n",
    "    print(item[\"name\"])\n",
    "    artist_names.append(item['id'])\n",
    "    top_artists_pop.append(item['popularity'])\n",
    "    \n",
    "print(\"Out of my top 20 artists. They're average popularity is \" + \n",
    "      str(round(sum(top_artists_pop)/len(top_artists_pop), 2)) + \" out of 100\")"
   ]
  },
  {
   "cell_type": "code",
   "execution_count": 5,
   "metadata": {},
   "outputs": [
    {
     "name": "stdout",
     "output_type": "stream",
     "text": [
      "60\n"
     ]
    }
   ],
   "source": [
    "#Remove duplicates from artists and follow and my top 20\n",
    "artist_names = list(dict.fromkeys(artist_names))\n",
    "print(len(artist_names))"
   ]
  },
  {
   "cell_type": "code",
   "execution_count": 6,
   "metadata": {},
   "outputs": [],
   "source": [
    "#Grab the top 10 tracks from the 3 most related artist of each artist I follow\n",
    "similar_artist = []\n",
    "songs = []\n",
    "\n",
    "for item in artist_names:\n",
    "    results = spotify.artist_related_artists(item)\n",
    "    count=0\n",
    "    for artist in results['artists']:\n",
    "        similar_artist.append(artist['name'])\n",
    "        if artist['id'] in artist_names:\n",
    "            continue\n",
    "        songs.append((spotify.artist_top_tracks(artist['id'], country='US'))['tracks'])\n",
    "        count+=1\n",
    "        if count == 3:\n",
    "            break"
   ]
  },
  {
   "cell_type": "code",
   "execution_count": 7,
   "metadata": {},
   "outputs": [],
   "source": [
    "#Put song names and ids into list\n",
    "final_song_list = []\n",
    "\n",
    "for song in songs:\n",
    "    for s in song:\n",
    "        final_song_list.append((s['name'], s['id']))"
   ]
  },
  {
   "cell_type": "code",
   "execution_count": 8,
   "metadata": {},
   "outputs": [
    {
     "name": "stdout",
     "output_type": "stream",
     "text": [
      "Started with 1711 and now we have: \n",
      "1308\n"
     ]
    }
   ],
   "source": [
    "#Eliminate duplicates in song list\n",
    "print(\"Started with \" + str(len(final_song_list)) + \" and now we have: \")\n",
    "final_song_list = list(dict.fromkeys(final_song_list))\n",
    "print(len(final_song_list))"
   ]
  },
  {
   "cell_type": "code",
   "execution_count": null,
   "metadata": {},
   "outputs": [
    {
     "name": "stdout",
     "output_type": "stream",
     "text": [
      "Script found 1308 songs from similar artists!\n"
     ]
    }
   ],
   "source": [
    "#Put tracks into playlist - wait 5 seconds after every 10 songs so don't hit API limit (takes like 13 minutes)\n",
    "print(\"Script found \" + str(len(final_song_list)) + \" songs from similar artists!\")\n",
    "stall = 0\n",
    "for track_id in final_song_list:\n",
    "    spotify.user_playlist_add_tracks(\"isaacbradys\",\"1nSh4V8S6Zuzj2f0HpRzOB\", [track_id[1]])\n",
    "    stall+=1\n",
    "    if stall%10 == 0:\n",
    "        time.sleep(5)\n",
    "print(\"These songs were added! Go check them out!\")"
   ]
  },
  {
   "cell_type": "code",
   "execution_count": null,
   "metadata": {},
   "outputs": [],
   "source": []
  }
 ],
 "metadata": {
  "kernelspec": {
   "display_name": "Python 3",
   "language": "python",
   "name": "python3"
  },
  "language_info": {
   "codemirror_mode": {
    "name": "ipython",
    "version": 3
   },
   "file_extension": ".py",
   "mimetype": "text/x-python",
   "name": "python",
   "nbconvert_exporter": "python",
   "pygments_lexer": "ipython3",
   "version": "3.7.4"
  }
 },
 "nbformat": 4,
 "nbformat_minor": 2
}
